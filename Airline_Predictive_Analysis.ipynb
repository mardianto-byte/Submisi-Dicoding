{
  "nbformat": 4,
  "nbformat_minor": 0,
  "metadata": {
    "colab": {
      "provenance": []
    },
    "kernelspec": {
      "name": "python3",
      "display_name": "Python 3"
    },
    "language_info": {
      "name": "python"
    }
  },
  "cells": [
    {
      "cell_type": "markdown",
      "source": [
        "# Domain Proyek"
      ],
      "metadata": {
        "id": "9mskRnF6F7At"
      }
    },
    {
      "cell_type": "markdown",
      "source": [
        "Bisnis jasa transportasi merupakan salah satu bidang yang sangat berkembang di Indonesia. Proses Digitalisasi yang dilakukan oleh pihak maskapai maupun berbagai aplikasi pemesanan tiket transportasi turut menyumbang tingginya intensitas penggunaan jasa transportasi serta kompetisi antar maskapai. Karena merupakan salah satu usaha sektor jasa, interaksi terhadap penumpang merupakan hal yang penting untuk dijaga dalam rangka menjaga loyalitas penumpang terhadap produk jasa yang ditawarkan. Dengan demikian, tingkat kepuasan penumpang terhadap layanan yang diberikan perlu dipertimbangkan. Di Indonesia sendiri, dengan jumlah penduduk yang tinggi, dan beribu pulau yang tersebar, penggunaan pesawat sebagai sarana transportasi antar pulau sering dipilih menjadi salah satu alternatif. Dengan mengetahui tingkat kepuasaan penumpang, maskapai dapat meningkatkan pelayanan yang diberikan secara tepat sasaran sesuai dengan bagian dimana penumpang merasa kurang puas. Dengan meningkatkan pelayanan pada bidang yang tepat, diharapkan akan dapat meningkatkan loyalitas penumpang, mendapatkan target penumpang baru, dapat bersaing terhadap kompetitor, serta memperkuat citra brand. Berdasarkan riset pada [Investigating airline passenger satisfaction: Data mining method](https://www.sciencedirect.com/science/article/abs/pii/S2210539521001097?via%3Dihub), Kualitas layanan sangat berpengaruh terhadap pilihan penumpang dalam persaingan maskapai penerbangan. Maskapai penerbangan harus meningkatkan layanan menggunakan pendekatan evaluasi layanan berbasis pelanggan dengan mengetahui layanan mana yang paling efektif strategi untuk memenuhi kepuasan penumpang. "
      ],
      "metadata": {
        "id": "YJOmFt62GEni"
      }
    },
    {
      "cell_type": "markdown",
      "source": [
        "# Business Understanding"
      ],
      "metadata": {
        "id": "95fuA61NF06M"
      }
    },
    {
      "cell_type": "markdown",
      "source": [
        "\n",
        "## Problem Statements\n",
        "\n",
        "Pernyataan masalah : \n",
        "\n",
        "- Kompetisi antar maskapai penerbangan di Indonesia\n",
        "- Ketidaktepatan dalam peningkatan layanan maskapai\n",
        "- Kesulitan dalam mendapatkan loyalitas penumpang"
      ],
      "metadata": {
        "id": "5z7j0WzXH927"
      }
    },
    {
      "cell_type": "markdown",
      "source": [
        "## Goals\n",
        "\n",
        "Tujuan yang ingin dicapai : \n",
        "\n",
        "-  Meningkatkan loyalitas penumpang\n",
        "-  Mendapatkan target penumpang baru\n",
        "-  Memperkuat citra brand"
      ],
      "metadata": {
        "id": "ciuwJy5wIQEP"
      }
    },
    {
      "cell_type": "markdown",
      "source": [
        "## Solution statement\n",
        "\n",
        "Solusi yang dapat dilakukan :\n",
        "\n",
        "- Memanfaatkan model K-Nearest Neighbors dalam melakukan proses klasifikasi kepuasan penumpang dengan memperhatikan n neighbors = 10 dan p = 2 sebagai parameter untuk memanfaatkan pengukuran jarak menggunakan minowski. Metrik evaluasi yang digunakan yaitu metrik accuracy.\n",
        "- Memanfaatkan model SVM sebagai perbandingan terhadap model uji lain dengan Metrik evaluasi yang digunakan yaitu metrik accuracy.\n",
        "- Memanfaatkan model Decision Tree sebagai perbandingan terhadap model uji lain dengan Metrik evaluasi yang digunakan yaitu metrik accuracy."
      ],
      "metadata": {
        "id": "OQR-6-faISzO"
      }
    },
    {
      "cell_type": "markdown",
      "source": [
        "# Data Understanding"
      ],
      "metadata": {
        "id": "FN11K8kaIcPy"
      }
    },
    {
      "cell_type": "markdown",
      "source": [
        "## Source\n",
        "\n",
        "Dataset yang digunakan dalam project ini merupakan dataset yang didapatkan melalui platform kaggle dengan jumlah data sebanyak 103904 data dengan memperhatikan 25 features.\n",
        "\n",
        "Sumber data didapatkan dari [Kaggle](https://www.kaggle.com/datasets/deltasierra452/airline-pax-satisfaction-survey)"
      ],
      "metadata": {
        "id": "WqjB-9gGIxJa"
      }
    },
    {
      "cell_type": "markdown",
      "source": [
        "## Data Loading"
      ],
      "metadata": {
        "id": "fzP1fot4LYS7"
      }
    },
    {
      "cell_type": "markdown",
      "source": [
        "Proses data loading dilakukan untuk membaca isi data pada datase. Proses dilakukan dengan melakukan proses import library yang dibutuhkan untuk melakukan proses loading data seperti pandas. Kemudian, lakukan proses loading dan cek isi dari data"
      ],
      "metadata": {
        "id": "DQvGRqCskTle"
      }
    },
    {
      "cell_type": "code",
      "execution_count": null,
      "metadata": {
        "id": "vSmYi4Xq01kS"
      },
      "outputs": [],
      "source": [
        "import numpy as np\n",
        "import matplotlib.pyplot as plt\n",
        "import pandas as pd\n",
        "%matplotlib inline\n",
        "import seaborn as sns"
      ]
    },
    {
      "cell_type": "code",
      "source": [
        "# load the dataset\n",
        "dataset = pd.read_csv(\"airline_clnd.csv\")\n",
        "dataset"
      ],
      "metadata": {
        "colab": {
          "base_uri": "https://localhost:8080/",
          "height": 626
        },
        "id": "oTyuJH0RFHgj",
        "outputId": "2fbb83cd-7137-4de4-9510-4bd2d6a92fdc"
      },
      "execution_count": null,
      "outputs": [
        {
          "output_type": "execute_result",
          "data": {
            "text/plain": [
              "            SR      id  Gender      Customer_Type  Age   Type_of_Travel  \\\n",
              "0            0   70172    Male     Loyal Customer   13  Personal Travel   \n",
              "1            1    5047    Male  disloyal Customer   25  Business travel   \n",
              "2            2  110028  Female     Loyal Customer   26  Business travel   \n",
              "3            3   24026  Female     Loyal Customer   25  Business travel   \n",
              "4            4  119299    Male     Loyal Customer   61  Business travel   \n",
              "...        ...     ...     ...                ...  ...              ...   \n",
              "103899  103899   94171  Female  disloyal Customer   23  Business travel   \n",
              "103900  103900   73097    Male     Loyal Customer   49  Business travel   \n",
              "103901  103901   68825    Male  disloyal Customer   30  Business travel   \n",
              "103902  103902   54173  Female  disloyal Customer   22  Business travel   \n",
              "103903  103903   62567    Male     Loyal Customer   27  Business travel   \n",
              "\n",
              "           Class  Flight_Distance  Inflight_wifi_service  \\\n",
              "0       Eco Plus              460                      3   \n",
              "1       Business              235                      3   \n",
              "2       Business             1142                      2   \n",
              "3       Business              562                      2   \n",
              "4       Business              214                      3   \n",
              "...          ...              ...                    ...   \n",
              "103899       Eco              192                      2   \n",
              "103900  Business             2347                      4   \n",
              "103901  Business             1995                      1   \n",
              "103902       Eco             1000                      1   \n",
              "103903  Business             1723                      1   \n",
              "\n",
              "        Departure/Arrival_time_convenient  ...  Inflight_entertainment  \\\n",
              "0                                       4  ...                       5   \n",
              "1                                       2  ...                       1   \n",
              "2                                       2  ...                       5   \n",
              "3                                       5  ...                       2   \n",
              "4                                       3  ...                       3   \n",
              "...                                   ...  ...                     ...   \n",
              "103899                                  1  ...                       2   \n",
              "103900                                  4  ...                       5   \n",
              "103901                                  1  ...                       4   \n",
              "103902                                  1  ...                       1   \n",
              "103903                                  3  ...                       1   \n",
              "\n",
              "        On-board_service  Leg_room_service  Baggage_handling  Checkin_service  \\\n",
              "0                      4                 3                 4                4   \n",
              "1                      1                 5                 3                1   \n",
              "2                      4                 3                 4                4   \n",
              "3                      2                 5                 3                1   \n",
              "4                      3                 4                 4                3   \n",
              "...                  ...               ...               ...              ...   \n",
              "103899                 3                 1                 4                2   \n",
              "103900                 5                 5                 5                5   \n",
              "103901                 3                 2                 4                5   \n",
              "103902                 4                 5                 1                5   \n",
              "103903                 1                 1                 4                4   \n",
              "\n",
              "        Inflight_service  Cleanliness  Departure_Delay_in_Minutes  \\\n",
              "0                      5            5                          25   \n",
              "1                      4            1                           1   \n",
              "2                      4            5                           0   \n",
              "3                      4            2                          11   \n",
              "4                      3            3                           0   \n",
              "...                  ...          ...                         ...   \n",
              "103899                 3            2                           3   \n",
              "103900                 5            4                           0   \n",
              "103901                 5            4                           7   \n",
              "103902                 4            1                           0   \n",
              "103903                 3            1                           0   \n",
              "\n",
              "        Arrival_Delay_in_Minutes             satisfaction  \n",
              "0                           18.0  neutral or dissatisfied  \n",
              "1                            6.0  neutral or dissatisfied  \n",
              "2                            0.0                satisfied  \n",
              "3                            9.0  neutral or dissatisfied  \n",
              "4                            0.0                satisfied  \n",
              "...                          ...                      ...  \n",
              "103899                       0.0  neutral or dissatisfied  \n",
              "103900                       0.0                satisfied  \n",
              "103901                      14.0  neutral or dissatisfied  \n",
              "103902                       0.0  neutral or dissatisfied  \n",
              "103903                       0.0  neutral or dissatisfied  \n",
              "\n",
              "[103904 rows x 25 columns]"
            ],
            "text/html": [
              "\n",
              "  <div id=\"df-7c2f00a0-0623-4f08-a2b9-c5f4093f695d\">\n",
              "    <div class=\"colab-df-container\">\n",
              "      <div>\n",
              "<style scoped>\n",
              "    .dataframe tbody tr th:only-of-type {\n",
              "        vertical-align: middle;\n",
              "    }\n",
              "\n",
              "    .dataframe tbody tr th {\n",
              "        vertical-align: top;\n",
              "    }\n",
              "\n",
              "    .dataframe thead th {\n",
              "        text-align: right;\n",
              "    }\n",
              "</style>\n",
              "<table border=\"1\" class=\"dataframe\">\n",
              "  <thead>\n",
              "    <tr style=\"text-align: right;\">\n",
              "      <th></th>\n",
              "      <th>SR</th>\n",
              "      <th>id</th>\n",
              "      <th>Gender</th>\n",
              "      <th>Customer_Type</th>\n",
              "      <th>Age</th>\n",
              "      <th>Type_of_Travel</th>\n",
              "      <th>Class</th>\n",
              "      <th>Flight_Distance</th>\n",
              "      <th>Inflight_wifi_service</th>\n",
              "      <th>Departure/Arrival_time_convenient</th>\n",
              "      <th>...</th>\n",
              "      <th>Inflight_entertainment</th>\n",
              "      <th>On-board_service</th>\n",
              "      <th>Leg_room_service</th>\n",
              "      <th>Baggage_handling</th>\n",
              "      <th>Checkin_service</th>\n",
              "      <th>Inflight_service</th>\n",
              "      <th>Cleanliness</th>\n",
              "      <th>Departure_Delay_in_Minutes</th>\n",
              "      <th>Arrival_Delay_in_Minutes</th>\n",
              "      <th>satisfaction</th>\n",
              "    </tr>\n",
              "  </thead>\n",
              "  <tbody>\n",
              "    <tr>\n",
              "      <th>0</th>\n",
              "      <td>0</td>\n",
              "      <td>70172</td>\n",
              "      <td>Male</td>\n",
              "      <td>Loyal Customer</td>\n",
              "      <td>13</td>\n",
              "      <td>Personal Travel</td>\n",
              "      <td>Eco Plus</td>\n",
              "      <td>460</td>\n",
              "      <td>3</td>\n",
              "      <td>4</td>\n",
              "      <td>...</td>\n",
              "      <td>5</td>\n",
              "      <td>4</td>\n",
              "      <td>3</td>\n",
              "      <td>4</td>\n",
              "      <td>4</td>\n",
              "      <td>5</td>\n",
              "      <td>5</td>\n",
              "      <td>25</td>\n",
              "      <td>18.0</td>\n",
              "      <td>neutral or dissatisfied</td>\n",
              "    </tr>\n",
              "    <tr>\n",
              "      <th>1</th>\n",
              "      <td>1</td>\n",
              "      <td>5047</td>\n",
              "      <td>Male</td>\n",
              "      <td>disloyal Customer</td>\n",
              "      <td>25</td>\n",
              "      <td>Business travel</td>\n",
              "      <td>Business</td>\n",
              "      <td>235</td>\n",
              "      <td>3</td>\n",
              "      <td>2</td>\n",
              "      <td>...</td>\n",
              "      <td>1</td>\n",
              "      <td>1</td>\n",
              "      <td>5</td>\n",
              "      <td>3</td>\n",
              "      <td>1</td>\n",
              "      <td>4</td>\n",
              "      <td>1</td>\n",
              "      <td>1</td>\n",
              "      <td>6.0</td>\n",
              "      <td>neutral or dissatisfied</td>\n",
              "    </tr>\n",
              "    <tr>\n",
              "      <th>2</th>\n",
              "      <td>2</td>\n",
              "      <td>110028</td>\n",
              "      <td>Female</td>\n",
              "      <td>Loyal Customer</td>\n",
              "      <td>26</td>\n",
              "      <td>Business travel</td>\n",
              "      <td>Business</td>\n",
              "      <td>1142</td>\n",
              "      <td>2</td>\n",
              "      <td>2</td>\n",
              "      <td>...</td>\n",
              "      <td>5</td>\n",
              "      <td>4</td>\n",
              "      <td>3</td>\n",
              "      <td>4</td>\n",
              "      <td>4</td>\n",
              "      <td>4</td>\n",
              "      <td>5</td>\n",
              "      <td>0</td>\n",
              "      <td>0.0</td>\n",
              "      <td>satisfied</td>\n",
              "    </tr>\n",
              "    <tr>\n",
              "      <th>3</th>\n",
              "      <td>3</td>\n",
              "      <td>24026</td>\n",
              "      <td>Female</td>\n",
              "      <td>Loyal Customer</td>\n",
              "      <td>25</td>\n",
              "      <td>Business travel</td>\n",
              "      <td>Business</td>\n",
              "      <td>562</td>\n",
              "      <td>2</td>\n",
              "      <td>5</td>\n",
              "      <td>...</td>\n",
              "      <td>2</td>\n",
              "      <td>2</td>\n",
              "      <td>5</td>\n",
              "      <td>3</td>\n",
              "      <td>1</td>\n",
              "      <td>4</td>\n",
              "      <td>2</td>\n",
              "      <td>11</td>\n",
              "      <td>9.0</td>\n",
              "      <td>neutral or dissatisfied</td>\n",
              "    </tr>\n",
              "    <tr>\n",
              "      <th>4</th>\n",
              "      <td>4</td>\n",
              "      <td>119299</td>\n",
              "      <td>Male</td>\n",
              "      <td>Loyal Customer</td>\n",
              "      <td>61</td>\n",
              "      <td>Business travel</td>\n",
              "      <td>Business</td>\n",
              "      <td>214</td>\n",
              "      <td>3</td>\n",
              "      <td>3</td>\n",
              "      <td>...</td>\n",
              "      <td>3</td>\n",
              "      <td>3</td>\n",
              "      <td>4</td>\n",
              "      <td>4</td>\n",
              "      <td>3</td>\n",
              "      <td>3</td>\n",
              "      <td>3</td>\n",
              "      <td>0</td>\n",
              "      <td>0.0</td>\n",
              "      <td>satisfied</td>\n",
              "    </tr>\n",
              "    <tr>\n",
              "      <th>...</th>\n",
              "      <td>...</td>\n",
              "      <td>...</td>\n",
              "      <td>...</td>\n",
              "      <td>...</td>\n",
              "      <td>...</td>\n",
              "      <td>...</td>\n",
              "      <td>...</td>\n",
              "      <td>...</td>\n",
              "      <td>...</td>\n",
              "      <td>...</td>\n",
              "      <td>...</td>\n",
              "      <td>...</td>\n",
              "      <td>...</td>\n",
              "      <td>...</td>\n",
              "      <td>...</td>\n",
              "      <td>...</td>\n",
              "      <td>...</td>\n",
              "      <td>...</td>\n",
              "      <td>...</td>\n",
              "      <td>...</td>\n",
              "      <td>...</td>\n",
              "    </tr>\n",
              "    <tr>\n",
              "      <th>103899</th>\n",
              "      <td>103899</td>\n",
              "      <td>94171</td>\n",
              "      <td>Female</td>\n",
              "      <td>disloyal Customer</td>\n",
              "      <td>23</td>\n",
              "      <td>Business travel</td>\n",
              "      <td>Eco</td>\n",
              "      <td>192</td>\n",
              "      <td>2</td>\n",
              "      <td>1</td>\n",
              "      <td>...</td>\n",
              "      <td>2</td>\n",
              "      <td>3</td>\n",
              "      <td>1</td>\n",
              "      <td>4</td>\n",
              "      <td>2</td>\n",
              "      <td>3</td>\n",
              "      <td>2</td>\n",
              "      <td>3</td>\n",
              "      <td>0.0</td>\n",
              "      <td>neutral or dissatisfied</td>\n",
              "    </tr>\n",
              "    <tr>\n",
              "      <th>103900</th>\n",
              "      <td>103900</td>\n",
              "      <td>73097</td>\n",
              "      <td>Male</td>\n",
              "      <td>Loyal Customer</td>\n",
              "      <td>49</td>\n",
              "      <td>Business travel</td>\n",
              "      <td>Business</td>\n",
              "      <td>2347</td>\n",
              "      <td>4</td>\n",
              "      <td>4</td>\n",
              "      <td>...</td>\n",
              "      <td>5</td>\n",
              "      <td>5</td>\n",
              "      <td>5</td>\n",
              "      <td>5</td>\n",
              "      <td>5</td>\n",
              "      <td>5</td>\n",
              "      <td>4</td>\n",
              "      <td>0</td>\n",
              "      <td>0.0</td>\n",
              "      <td>satisfied</td>\n",
              "    </tr>\n",
              "    <tr>\n",
              "      <th>103901</th>\n",
              "      <td>103901</td>\n",
              "      <td>68825</td>\n",
              "      <td>Male</td>\n",
              "      <td>disloyal Customer</td>\n",
              "      <td>30</td>\n",
              "      <td>Business travel</td>\n",
              "      <td>Business</td>\n",
              "      <td>1995</td>\n",
              "      <td>1</td>\n",
              "      <td>1</td>\n",
              "      <td>...</td>\n",
              "      <td>4</td>\n",
              "      <td>3</td>\n",
              "      <td>2</td>\n",
              "      <td>4</td>\n",
              "      <td>5</td>\n",
              "      <td>5</td>\n",
              "      <td>4</td>\n",
              "      <td>7</td>\n",
              "      <td>14.0</td>\n",
              "      <td>neutral or dissatisfied</td>\n",
              "    </tr>\n",
              "    <tr>\n",
              "      <th>103902</th>\n",
              "      <td>103902</td>\n",
              "      <td>54173</td>\n",
              "      <td>Female</td>\n",
              "      <td>disloyal Customer</td>\n",
              "      <td>22</td>\n",
              "      <td>Business travel</td>\n",
              "      <td>Eco</td>\n",
              "      <td>1000</td>\n",
              "      <td>1</td>\n",
              "      <td>1</td>\n",
              "      <td>...</td>\n",
              "      <td>1</td>\n",
              "      <td>4</td>\n",
              "      <td>5</td>\n",
              "      <td>1</td>\n",
              "      <td>5</td>\n",
              "      <td>4</td>\n",
              "      <td>1</td>\n",
              "      <td>0</td>\n",
              "      <td>0.0</td>\n",
              "      <td>neutral or dissatisfied</td>\n",
              "    </tr>\n",
              "    <tr>\n",
              "      <th>103903</th>\n",
              "      <td>103903</td>\n",
              "      <td>62567</td>\n",
              "      <td>Male</td>\n",
              "      <td>Loyal Customer</td>\n",
              "      <td>27</td>\n",
              "      <td>Business travel</td>\n",
              "      <td>Business</td>\n",
              "      <td>1723</td>\n",
              "      <td>1</td>\n",
              "      <td>3</td>\n",
              "      <td>...</td>\n",
              "      <td>1</td>\n",
              "      <td>1</td>\n",
              "      <td>1</td>\n",
              "      <td>4</td>\n",
              "      <td>4</td>\n",
              "      <td>3</td>\n",
              "      <td>1</td>\n",
              "      <td>0</td>\n",
              "      <td>0.0</td>\n",
              "      <td>neutral or dissatisfied</td>\n",
              "    </tr>\n",
              "  </tbody>\n",
              "</table>\n",
              "<p>103904 rows × 25 columns</p>\n",
              "</div>\n",
              "      <button class=\"colab-df-convert\" onclick=\"convertToInteractive('df-7c2f00a0-0623-4f08-a2b9-c5f4093f695d')\"\n",
              "              title=\"Convert this dataframe to an interactive table.\"\n",
              "              style=\"display:none;\">\n",
              "        \n",
              "  <svg xmlns=\"http://www.w3.org/2000/svg\" height=\"24px\"viewBox=\"0 0 24 24\"\n",
              "       width=\"24px\">\n",
              "    <path d=\"M0 0h24v24H0V0z\" fill=\"none\"/>\n",
              "    <path d=\"M18.56 5.44l.94 2.06.94-2.06 2.06-.94-2.06-.94-.94-2.06-.94 2.06-2.06.94zm-11 1L8.5 8.5l.94-2.06 2.06-.94-2.06-.94L8.5 2.5l-.94 2.06-2.06.94zm10 10l.94 2.06.94-2.06 2.06-.94-2.06-.94-.94-2.06-.94 2.06-2.06.94z\"/><path d=\"M17.41 7.96l-1.37-1.37c-.4-.4-.92-.59-1.43-.59-.52 0-1.04.2-1.43.59L10.3 9.45l-7.72 7.72c-.78.78-.78 2.05 0 2.83L4 21.41c.39.39.9.59 1.41.59.51 0 1.02-.2 1.41-.59l7.78-7.78 2.81-2.81c.8-.78.8-2.07 0-2.86zM5.41 20L4 18.59l7.72-7.72 1.47 1.35L5.41 20z\"/>\n",
              "  </svg>\n",
              "      </button>\n",
              "      \n",
              "  <style>\n",
              "    .colab-df-container {\n",
              "      display:flex;\n",
              "      flex-wrap:wrap;\n",
              "      gap: 12px;\n",
              "    }\n",
              "\n",
              "    .colab-df-convert {\n",
              "      background-color: #E8F0FE;\n",
              "      border: none;\n",
              "      border-radius: 50%;\n",
              "      cursor: pointer;\n",
              "      display: none;\n",
              "      fill: #1967D2;\n",
              "      height: 32px;\n",
              "      padding: 0 0 0 0;\n",
              "      width: 32px;\n",
              "    }\n",
              "\n",
              "    .colab-df-convert:hover {\n",
              "      background-color: #E2EBFA;\n",
              "      box-shadow: 0px 1px 2px rgba(60, 64, 67, 0.3), 0px 1px 3px 1px rgba(60, 64, 67, 0.15);\n",
              "      fill: #174EA6;\n",
              "    }\n",
              "\n",
              "    [theme=dark] .colab-df-convert {\n",
              "      background-color: #3B4455;\n",
              "      fill: #D2E3FC;\n",
              "    }\n",
              "\n",
              "    [theme=dark] .colab-df-convert:hover {\n",
              "      background-color: #434B5C;\n",
              "      box-shadow: 0px 1px 3px 1px rgba(0, 0, 0, 0.15);\n",
              "      filter: drop-shadow(0px 1px 2px rgba(0, 0, 0, 0.3));\n",
              "      fill: #FFFFFF;\n",
              "    }\n",
              "  </style>\n",
              "\n",
              "      <script>\n",
              "        const buttonEl =\n",
              "          document.querySelector('#df-7c2f00a0-0623-4f08-a2b9-c5f4093f695d button.colab-df-convert');\n",
              "        buttonEl.style.display =\n",
              "          google.colab.kernel.accessAllowed ? 'block' : 'none';\n",
              "\n",
              "        async function convertToInteractive(key) {\n",
              "          const element = document.querySelector('#df-7c2f00a0-0623-4f08-a2b9-c5f4093f695d');\n",
              "          const dataTable =\n",
              "            await google.colab.kernel.invokeFunction('convertToInteractive',\n",
              "                                                     [key], {});\n",
              "          if (!dataTable) return;\n",
              "\n",
              "          const docLinkHtml = 'Like what you see? Visit the ' +\n",
              "            '<a target=\"_blank\" href=https://colab.research.google.com/notebooks/data_table.ipynb>data table notebook</a>'\n",
              "            + ' to learn more about interactive tables.';\n",
              "          element.innerHTML = '';\n",
              "          dataTable['output_type'] = 'display_data';\n",
              "          await google.colab.output.renderOutput(dataTable, element);\n",
              "          const docLink = document.createElement('div');\n",
              "          docLink.innerHTML = docLinkHtml;\n",
              "          element.appendChild(docLink);\n",
              "        }\n",
              "      </script>\n",
              "    </div>\n",
              "  </div>\n",
              "  "
            ]
          },
          "metadata": {},
          "execution_count": 2
        }
      ]
    },
    {
      "cell_type": "markdown",
      "source": [
        "Output kode di atas memberikan informasi sebagai berikut:\n",
        "\n",
        "Ada 103.904 baris (records atau jumlah pengamatan) dalam dataset.\n",
        "\n",
        "Terdapat 25 kolom yaitu: SR, id, Gender,\tCustomer_Type,\tAge,\tType_of_Travel,\tClass,\tFlight_Distance,\tInflight_wifi_service,\tDeparture/Arrival_time_convenient,\n",
        "Ease_of_Online_booking, Gate_location, Food_and_drink, Online_boarding, Seat_comfort, Inflight_entertainment, On-board_service, Leg_room_service, Baggage_handling, Checkin_service, Inflight_service, Cleanliness, Departure_Delay_in_Minutes, Arrival_Delay_in_Minutes, satisfaction                       \n"
      ],
      "metadata": {
        "id": "zN0SQkhMkXpu"
      }
    },
    {
      "cell_type": "markdown",
      "source": [
        "## Deskripsi Varibel"
      ],
      "metadata": {
        "id": "gPmxHL8TMLiB"
      }
    },
    {
      "cell_type": "markdown",
      "source": [
        "Variabel-variabel pada Airline Passanger Satisfaction dataset adalah sebagai berikut:\n",
        "\n",
        "Id: nomor Id penumpang\n",
        "\n",
        "Gender: Jenis kelamin penumpang (Female, Male)\n",
        "\n",
        "Customer Type: Tipe penumpang (Loyal customer, disloyal customer)\n",
        "\n",
        "Age: Usia penumpang\n",
        "\n",
        "Type of Travel: Tujuan penerbangan penumpang (Personal Travel, Business Travel)\n",
        "\n",
        "Class: Kelas kursi penumpang (Business, Eco, Eco Plus)\n",
        "\n",
        "Flight Distance: Jarak penerbangan\n",
        "\n",
        "Inflight wifi service: Level kepuasan terhadap inflight wifi service (0,1,2,3,4,\n",
        "5/ 0=Not Applicable; 1=Least Satisfied to 5=Most Satisfied)\n",
        "\n",
        "Departure/Arrival time convenient: Level kepuasan terhadap waktu keberangkatan dan ketibaan (0,1,2,3,4,5/ 0=Not Applicable; 1=Least Satisfied to 5=Most Satisfied)\n",
        "\n",
        "Ease of Online booking: Level kepuasan terhadap online booking (0,1,2,3,4,5/ 0=Not Applicable; 1=Least Satisfied to 5=Most Satisfied)\n",
        "\n",
        "Gate location: Level kepuasan terhadap lokasi Gate/ Pintu (0,1,2,3,4,5/ 0=Not \n",
        "Applicable; 1=Least Satisfied to 5=Most Satisfied)\n",
        "\n",
        "Food and drink: Level kepuasan terhadap pelayanan makanan dan minuman (0,1,2,3,4,5/ 0=Not Applicable; 1=Least Satisfied to 5=Most Satisfied)\n",
        "\n",
        "Online boarding: Level kepuasan terhadap online boarding (0,1,2,3,4,5/ 0=Not Applicable; 1=Least Satisfied to 5=Most Satisfied)\n",
        "\n",
        "Seat comfort: Level kepuasan terhadap kenyamanan kursi (0,1,2,3,4,5/ 0=Not Applicable; 1=Least Satisfied to 5=Most Satisfied)\n",
        "\n",
        "Inflight entertainment: Level kepuasan terhadap hiburan selama penerbangan (0,1,2,3,4,5/ 0=Not Applicable; 1=Least Satisfied to 5=Most Satisfied)\n",
        "\n",
        "On-board service: Level kepuasan terhadap On-board service (0,1,2,3,4,5/ 0=Not Applicable; 1=Least Satisfied to 5=Most Satisfied)\n",
        "\n",
        "Leg room service: Level kepuasan terhadap ruang kaki penumpang (0,1,2,3,4,5/ 0=Not Applicable; 1=Least Satisfied to 5=Most Satisfied)\n",
        "\n",
        "Baggage handling: Level kepuasan terhadap penanganan bagasi (1,2,3,4,5/ 1=Least Satisfied to 5=Most Satisfied)\n",
        "\n",
        "Checkin service: Level kepuasan terhadap Check-in service (0,1,2,3,4,5/ 0=Not Applicable; 1=Least Satisfied to 5=Most Satisfied)\n",
        "\n",
        "Inflight service: Level kepuasan terhadap layanan dalam penerbangan (0,1,2,3,4,5/ 0=Not Applicable; 1=Least Satisfied to 5=Most Satisfied)\n",
        "\n",
        "Cleanliness: Level kepuasan terhadap kebersihan (0,1,2,3,4,5/ 0=Not Applicable; 1=Least Satisfied to 5=Most Satisfied)\n",
        "\n",
        "Departure Delay in Minutes: Waktu terlambat keberangkatan (menit) \n",
        "\n",
        "Arrival Delay in Minutes: Waktu terlambat ketibaan (menit) \n",
        "\n",
        "Satisfaction: Level kepuasan terhadap maskapai ('satisfied', 'neutral or dissatisfied')"
      ],
      "metadata": {
        "id": "O7w5ST35S6Sg"
      }
    },
    {
      "cell_type": "code",
      "source": [
        "dataset.info()"
      ],
      "metadata": {
        "colab": {
          "base_uri": "https://localhost:8080/"
        },
        "id": "uyLknicXFHdE",
        "outputId": "5093f54a-4531-40d5-d614-ed6f8de52932"
      },
      "execution_count": null,
      "outputs": [
        {
          "output_type": "stream",
          "name": "stdout",
          "text": [
            "<class 'pandas.core.frame.DataFrame'>\n",
            "RangeIndex: 103904 entries, 0 to 103903\n",
            "Data columns (total 25 columns):\n",
            " #   Column                             Non-Null Count   Dtype  \n",
            "---  ------                             --------------   -----  \n",
            " 0   SR                                 103904 non-null  int64  \n",
            " 1   id                                 103904 non-null  int64  \n",
            " 2   Gender                             103904 non-null  object \n",
            " 3   Customer_Type                      103904 non-null  object \n",
            " 4   Age                                103904 non-null  int64  \n",
            " 5   Type_of_Travel                     103904 non-null  object \n",
            " 6   Class                              103904 non-null  object \n",
            " 7   Flight_Distance                    103904 non-null  int64  \n",
            " 8   Inflight_wifi_service              103904 non-null  int64  \n",
            " 9   Departure/Arrival_time_convenient  103904 non-null  int64  \n",
            " 10  Ease_of_Online_booking             103904 non-null  int64  \n",
            " 11  Gate_location                      103904 non-null  int64  \n",
            " 12  Food_and_drink                     103904 non-null  int64  \n",
            " 13  Online_boarding                    103904 non-null  int64  \n",
            " 14  Seat_comfort                       103904 non-null  int64  \n",
            " 15  Inflight_entertainment             103904 non-null  int64  \n",
            " 16  On-board_service                   103904 non-null  int64  \n",
            " 17  Leg_room_service                   103904 non-null  int64  \n",
            " 18  Baggage_handling                   103904 non-null  int64  \n",
            " 19  Checkin_service                    103904 non-null  int64  \n",
            " 20  Inflight_service                   103904 non-null  int64  \n",
            " 21  Cleanliness                        103904 non-null  int64  \n",
            " 22  Departure_Delay_in_Minutes         103904 non-null  int64  \n",
            " 23  Arrival_Delay_in_Minutes           103594 non-null  float64\n",
            " 24  satisfaction                       103904 non-null  object \n",
            "dtypes: float64(1), int64(19), object(5)\n",
            "memory usage: 19.8+ MB\n"
          ]
        }
      ]
    },
    {
      "cell_type": "markdown",
      "source": [
        "Dari output terlihat bahwa:\n",
        "\n",
        "Terdapat 5 kolom dengan tipe object, yaitu: Gender,\tCustomer_Type,\tType_of_Travel,\tClass, satisfaction (target fitur)\n",
        "\n",
        "Terdapat 19 kolom numerik dengan tipe data int64 yaitu: SR, id,\tAge,\tFlight_Distance,\tInflight_wifi_service,\tDeparture/Arrival_time_convenient,\n",
        "Ease_of_Online_booking, Gate_location, Food_and_drink, Online_boarding, Seat_comfort, Inflight_entertainment, On-board_service, Leg_room_service, Baggage_handling, Checkin_service, Inflight_service, Cleanliness, Departure_Delay_in_Minutes\n",
        "\n",
        "Terdapat 1 kolom numerik dengan tipe data float64, yaitu: Arrival_Delay_in_Minutes\n"
      ],
      "metadata": {
        "id": "ZyXy5awESK2W"
      }
    },
    {
      "cell_type": "code",
      "source": [
        "dataset.describe()"
      ],
      "metadata": {
        "id": "JmzzqujjFHap",
        "colab": {
          "base_uri": "https://localhost:8080/",
          "height": 381
        },
        "outputId": "ad973960-739b-4e63-a768-328193b8e6ac"
      },
      "execution_count": null,
      "outputs": [
        {
          "output_type": "execute_result",
          "data": {
            "text/plain": [
              "                  SR             id            Age  Flight_Distance  \\\n",
              "count  103904.000000  103904.000000  103904.000000    103904.000000   \n",
              "mean    51951.500000   64924.210502      39.379706      1189.448375   \n",
              "std     29994.645522   37463.812252      15.114964       997.147281   \n",
              "min         0.000000       1.000000       7.000000        31.000000   \n",
              "25%     25975.750000   32533.750000      27.000000       414.000000   \n",
              "50%     51951.500000   64856.500000      40.000000       843.000000   \n",
              "75%     77927.250000   97368.250000      51.000000      1743.000000   \n",
              "max    103903.000000  129880.000000      85.000000      4983.000000   \n",
              "\n",
              "       Inflight_wifi_service  Departure/Arrival_time_convenient  \\\n",
              "count          103904.000000                      103904.000000   \n",
              "mean                2.729683                           3.060296   \n",
              "std                 1.327829                           1.525075   \n",
              "min                 0.000000                           0.000000   \n",
              "25%                 2.000000                           2.000000   \n",
              "50%                 3.000000                           3.000000   \n",
              "75%                 4.000000                           4.000000   \n",
              "max                 5.000000                           5.000000   \n",
              "\n",
              "       Ease_of_Online_booking  Gate_location  Food_and_drink  Online_boarding  \\\n",
              "count           103904.000000  103904.000000   103904.000000    103904.000000   \n",
              "mean                 2.756901       2.976883        3.202129         3.250375   \n",
              "std                  1.398929       1.277621        1.329533         1.349509   \n",
              "min                  0.000000       0.000000        0.000000         0.000000   \n",
              "25%                  2.000000       2.000000        2.000000         2.000000   \n",
              "50%                  3.000000       3.000000        3.000000         3.000000   \n",
              "75%                  4.000000       4.000000        4.000000         4.000000   \n",
              "max                  5.000000       5.000000        5.000000         5.000000   \n",
              "\n",
              "        Seat_comfort  Inflight_entertainment  On-board_service  \\\n",
              "count  103904.000000           103904.000000     103904.000000   \n",
              "mean        3.439396                3.358158          3.382363   \n",
              "std         1.319088                1.332991          1.288354   \n",
              "min         0.000000                0.000000          0.000000   \n",
              "25%         2.000000                2.000000          2.000000   \n",
              "50%         4.000000                4.000000          4.000000   \n",
              "75%         5.000000                4.000000          4.000000   \n",
              "max         5.000000                5.000000          5.000000   \n",
              "\n",
              "       Leg_room_service  Baggage_handling  Checkin_service  Inflight_service  \\\n",
              "count     103904.000000     103904.000000    103904.000000     103904.000000   \n",
              "mean           3.351055          3.631833         3.304290          3.640428   \n",
              "std            1.315605          1.180903         1.265396          1.175663   \n",
              "min            0.000000          1.000000         0.000000          0.000000   \n",
              "25%            2.000000          3.000000         3.000000          3.000000   \n",
              "50%            4.000000          4.000000         3.000000          4.000000   \n",
              "75%            4.000000          5.000000         4.000000          5.000000   \n",
              "max            5.000000          5.000000         5.000000          5.000000   \n",
              "\n",
              "         Cleanliness  Departure_Delay_in_Minutes  Arrival_Delay_in_Minutes  \n",
              "count  103904.000000               103904.000000             103594.000000  \n",
              "mean        3.286351                   14.815618                 15.178678  \n",
              "std         1.312273                   38.230901                 38.698682  \n",
              "min         0.000000                    0.000000                  0.000000  \n",
              "25%         2.000000                    0.000000                  0.000000  \n",
              "50%         3.000000                    0.000000                  0.000000  \n",
              "75%         4.000000                   12.000000                 13.000000  \n",
              "max         5.000000                 1592.000000               1584.000000  "
            ],
            "text/html": [
              "\n",
              "  <div id=\"df-f367ada7-fb22-44eb-ae1f-99ca6fea86a7\">\n",
              "    <div class=\"colab-df-container\">\n",
              "      <div>\n",
              "<style scoped>\n",
              "    .dataframe tbody tr th:only-of-type {\n",
              "        vertical-align: middle;\n",
              "    }\n",
              "\n",
              "    .dataframe tbody tr th {\n",
              "        vertical-align: top;\n",
              "    }\n",
              "\n",
              "    .dataframe thead th {\n",
              "        text-align: right;\n",
              "    }\n",
              "</style>\n",
              "<table border=\"1\" class=\"dataframe\">\n",
              "  <thead>\n",
              "    <tr style=\"text-align: right;\">\n",
              "      <th></th>\n",
              "      <th>SR</th>\n",
              "      <th>id</th>\n",
              "      <th>Age</th>\n",
              "      <th>Flight_Distance</th>\n",
              "      <th>Inflight_wifi_service</th>\n",
              "      <th>Departure/Arrival_time_convenient</th>\n",
              "      <th>Ease_of_Online_booking</th>\n",
              "      <th>Gate_location</th>\n",
              "      <th>Food_and_drink</th>\n",
              "      <th>Online_boarding</th>\n",
              "      <th>Seat_comfort</th>\n",
              "      <th>Inflight_entertainment</th>\n",
              "      <th>On-board_service</th>\n",
              "      <th>Leg_room_service</th>\n",
              "      <th>Baggage_handling</th>\n",
              "      <th>Checkin_service</th>\n",
              "      <th>Inflight_service</th>\n",
              "      <th>Cleanliness</th>\n",
              "      <th>Departure_Delay_in_Minutes</th>\n",
              "      <th>Arrival_Delay_in_Minutes</th>\n",
              "    </tr>\n",
              "  </thead>\n",
              "  <tbody>\n",
              "    <tr>\n",
              "      <th>count</th>\n",
              "      <td>103904.000000</td>\n",
              "      <td>103904.000000</td>\n",
              "      <td>103904.000000</td>\n",
              "      <td>103904.000000</td>\n",
              "      <td>103904.000000</td>\n",
              "      <td>103904.000000</td>\n",
              "      <td>103904.000000</td>\n",
              "      <td>103904.000000</td>\n",
              "      <td>103904.000000</td>\n",
              "      <td>103904.000000</td>\n",
              "      <td>103904.000000</td>\n",
              "      <td>103904.000000</td>\n",
              "      <td>103904.000000</td>\n",
              "      <td>103904.000000</td>\n",
              "      <td>103904.000000</td>\n",
              "      <td>103904.000000</td>\n",
              "      <td>103904.000000</td>\n",
              "      <td>103904.000000</td>\n",
              "      <td>103904.000000</td>\n",
              "      <td>103594.000000</td>\n",
              "    </tr>\n",
              "    <tr>\n",
              "      <th>mean</th>\n",
              "      <td>51951.500000</td>\n",
              "      <td>64924.210502</td>\n",
              "      <td>39.379706</td>\n",
              "      <td>1189.448375</td>\n",
              "      <td>2.729683</td>\n",
              "      <td>3.060296</td>\n",
              "      <td>2.756901</td>\n",
              "      <td>2.976883</td>\n",
              "      <td>3.202129</td>\n",
              "      <td>3.250375</td>\n",
              "      <td>3.439396</td>\n",
              "      <td>3.358158</td>\n",
              "      <td>3.382363</td>\n",
              "      <td>3.351055</td>\n",
              "      <td>3.631833</td>\n",
              "      <td>3.304290</td>\n",
              "      <td>3.640428</td>\n",
              "      <td>3.286351</td>\n",
              "      <td>14.815618</td>\n",
              "      <td>15.178678</td>\n",
              "    </tr>\n",
              "    <tr>\n",
              "      <th>std</th>\n",
              "      <td>29994.645522</td>\n",
              "      <td>37463.812252</td>\n",
              "      <td>15.114964</td>\n",
              "      <td>997.147281</td>\n",
              "      <td>1.327829</td>\n",
              "      <td>1.525075</td>\n",
              "      <td>1.398929</td>\n",
              "      <td>1.277621</td>\n",
              "      <td>1.329533</td>\n",
              "      <td>1.349509</td>\n",
              "      <td>1.319088</td>\n",
              "      <td>1.332991</td>\n",
              "      <td>1.288354</td>\n",
              "      <td>1.315605</td>\n",
              "      <td>1.180903</td>\n",
              "      <td>1.265396</td>\n",
              "      <td>1.175663</td>\n",
              "      <td>1.312273</td>\n",
              "      <td>38.230901</td>\n",
              "      <td>38.698682</td>\n",
              "    </tr>\n",
              "    <tr>\n",
              "      <th>min</th>\n",
              "      <td>0.000000</td>\n",
              "      <td>1.000000</td>\n",
              "      <td>7.000000</td>\n",
              "      <td>31.000000</td>\n",
              "      <td>0.000000</td>\n",
              "      <td>0.000000</td>\n",
              "      <td>0.000000</td>\n",
              "      <td>0.000000</td>\n",
              "      <td>0.000000</td>\n",
              "      <td>0.000000</td>\n",
              "      <td>0.000000</td>\n",
              "      <td>0.000000</td>\n",
              "      <td>0.000000</td>\n",
              "      <td>0.000000</td>\n",
              "      <td>1.000000</td>\n",
              "      <td>0.000000</td>\n",
              "      <td>0.000000</td>\n",
              "      <td>0.000000</td>\n",
              "      <td>0.000000</td>\n",
              "      <td>0.000000</td>\n",
              "    </tr>\n",
              "    <tr>\n",
              "      <th>25%</th>\n",
              "      <td>25975.750000</td>\n",
              "      <td>32533.750000</td>\n",
              "      <td>27.000000</td>\n",
              "      <td>414.000000</td>\n",
              "      <td>2.000000</td>\n",
              "      <td>2.000000</td>\n",
              "      <td>2.000000</td>\n",
              "      <td>2.000000</td>\n",
              "      <td>2.000000</td>\n",
              "      <td>2.000000</td>\n",
              "      <td>2.000000</td>\n",
              "      <td>2.000000</td>\n",
              "      <td>2.000000</td>\n",
              "      <td>2.000000</td>\n",
              "      <td>3.000000</td>\n",
              "      <td>3.000000</td>\n",
              "      <td>3.000000</td>\n",
              "      <td>2.000000</td>\n",
              "      <td>0.000000</td>\n",
              "      <td>0.000000</td>\n",
              "    </tr>\n",
              "    <tr>\n",
              "      <th>50%</th>\n",
              "      <td>51951.500000</td>\n",
              "      <td>64856.500000</td>\n",
              "      <td>40.000000</td>\n",
              "      <td>843.000000</td>\n",
              "      <td>3.000000</td>\n",
              "      <td>3.000000</td>\n",
              "      <td>3.000000</td>\n",
              "      <td>3.000000</td>\n",
              "      <td>3.000000</td>\n",
              "      <td>3.000000</td>\n",
              "      <td>4.000000</td>\n",
              "      <td>4.000000</td>\n",
              "      <td>4.000000</td>\n",
              "      <td>4.000000</td>\n",
              "      <td>4.000000</td>\n",
              "      <td>3.000000</td>\n",
              "      <td>4.000000</td>\n",
              "      <td>3.000000</td>\n",
              "      <td>0.000000</td>\n",
              "      <td>0.000000</td>\n",
              "    </tr>\n",
              "    <tr>\n",
              "      <th>75%</th>\n",
              "      <td>77927.250000</td>\n",
              "      <td>97368.250000</td>\n",
              "      <td>51.000000</td>\n",
              "      <td>1743.000000</td>\n",
              "      <td>4.000000</td>\n",
              "      <td>4.000000</td>\n",
              "      <td>4.000000</td>\n",
              "      <td>4.000000</td>\n",
              "      <td>4.000000</td>\n",
              "      <td>4.000000</td>\n",
              "      <td>5.000000</td>\n",
              "      <td>4.000000</td>\n",
              "      <td>4.000000</td>\n",
              "      <td>4.000000</td>\n",
              "      <td>5.000000</td>\n",
              "      <td>4.000000</td>\n",
              "      <td>5.000000</td>\n",
              "      <td>4.000000</td>\n",
              "      <td>12.000000</td>\n",
              "      <td>13.000000</td>\n",
              "    </tr>\n",
              "    <tr>\n",
              "      <th>max</th>\n",
              "      <td>103903.000000</td>\n",
              "      <td>129880.000000</td>\n",
              "      <td>85.000000</td>\n",
              "      <td>4983.000000</td>\n",
              "      <td>5.000000</td>\n",
              "      <td>5.000000</td>\n",
              "      <td>5.000000</td>\n",
              "      <td>5.000000</td>\n",
              "      <td>5.000000</td>\n",
              "      <td>5.000000</td>\n",
              "      <td>5.000000</td>\n",
              "      <td>5.000000</td>\n",
              "      <td>5.000000</td>\n",
              "      <td>5.000000</td>\n",
              "      <td>5.000000</td>\n",
              "      <td>5.000000</td>\n",
              "      <td>5.000000</td>\n",
              "      <td>5.000000</td>\n",
              "      <td>1592.000000</td>\n",
              "      <td>1584.000000</td>\n",
              "    </tr>\n",
              "  </tbody>\n",
              "</table>\n",
              "</div>\n",
              "      <button class=\"colab-df-convert\" onclick=\"convertToInteractive('df-f367ada7-fb22-44eb-ae1f-99ca6fea86a7')\"\n",
              "              title=\"Convert this dataframe to an interactive table.\"\n",
              "              style=\"display:none;\">\n",
              "        \n",
              "  <svg xmlns=\"http://www.w3.org/2000/svg\" height=\"24px\"viewBox=\"0 0 24 24\"\n",
              "       width=\"24px\">\n",
              "    <path d=\"M0 0h24v24H0V0z\" fill=\"none\"/>\n",
              "    <path d=\"M18.56 5.44l.94 2.06.94-2.06 2.06-.94-2.06-.94-.94-2.06-.94 2.06-2.06.94zm-11 1L8.5 8.5l.94-2.06 2.06-.94-2.06-.94L8.5 2.5l-.94 2.06-2.06.94zm10 10l.94 2.06.94-2.06 2.06-.94-2.06-.94-.94-2.06-.94 2.06-2.06.94z\"/><path d=\"M17.41 7.96l-1.37-1.37c-.4-.4-.92-.59-1.43-.59-.52 0-1.04.2-1.43.59L10.3 9.45l-7.72 7.72c-.78.78-.78 2.05 0 2.83L4 21.41c.39.39.9.59 1.41.59.51 0 1.02-.2 1.41-.59l7.78-7.78 2.81-2.81c.8-.78.8-2.07 0-2.86zM5.41 20L4 18.59l7.72-7.72 1.47 1.35L5.41 20z\"/>\n",
              "  </svg>\n",
              "      </button>\n",
              "      \n",
              "  <style>\n",
              "    .colab-df-container {\n",
              "      display:flex;\n",
              "      flex-wrap:wrap;\n",
              "      gap: 12px;\n",
              "    }\n",
              "\n",
              "    .colab-df-convert {\n",
              "      background-color: #E8F0FE;\n",
              "      border: none;\n",
              "      border-radius: 50%;\n",
              "      cursor: pointer;\n",
              "      display: none;\n",
              "      fill: #1967D2;\n",
              "      height: 32px;\n",
              "      padding: 0 0 0 0;\n",
              "      width: 32px;\n",
              "    }\n",
              "\n",
              "    .colab-df-convert:hover {\n",
              "      background-color: #E2EBFA;\n",
              "      box-shadow: 0px 1px 2px rgba(60, 64, 67, 0.3), 0px 1px 3px 1px rgba(60, 64, 67, 0.15);\n",
              "      fill: #174EA6;\n",
              "    }\n",
              "\n",
              "    [theme=dark] .colab-df-convert {\n",
              "      background-color: #3B4455;\n",
              "      fill: #D2E3FC;\n",
              "    }\n",
              "\n",
              "    [theme=dark] .colab-df-convert:hover {\n",
              "      background-color: #434B5C;\n",
              "      box-shadow: 0px 1px 3px 1px rgba(0, 0, 0, 0.15);\n",
              "      filter: drop-shadow(0px 1px 2px rgba(0, 0, 0, 0.3));\n",
              "      fill: #FFFFFF;\n",
              "    }\n",
              "  </style>\n",
              "\n",
              "      <script>\n",
              "        const buttonEl =\n",
              "          document.querySelector('#df-f367ada7-fb22-44eb-ae1f-99ca6fea86a7 button.colab-df-convert');\n",
              "        buttonEl.style.display =\n",
              "          google.colab.kernel.accessAllowed ? 'block' : 'none';\n",
              "\n",
              "        async function convertToInteractive(key) {\n",
              "          const element = document.querySelector('#df-f367ada7-fb22-44eb-ae1f-99ca6fea86a7');\n",
              "          const dataTable =\n",
              "            await google.colab.kernel.invokeFunction('convertToInteractive',\n",
              "                                                     [key], {});\n",
              "          if (!dataTable) return;\n",
              "\n",
              "          const docLinkHtml = 'Like what you see? Visit the ' +\n",
              "            '<a target=\"_blank\" href=https://colab.research.google.com/notebooks/data_table.ipynb>data table notebook</a>'\n",
              "            + ' to learn more about interactive tables.';\n",
              "          element.innerHTML = '';\n",
              "          dataTable['output_type'] = 'display_data';\n",
              "          await google.colab.output.renderOutput(dataTable, element);\n",
              "          const docLink = document.createElement('div');\n",
              "          docLink.innerHTML = docLinkHtml;\n",
              "          element.appendChild(docLink);\n",
              "        }\n",
              "      </script>\n",
              "    </div>\n",
              "  </div>\n",
              "  "
            ]
          },
          "metadata": {},
          "execution_count": 4
        }
      ]
    },
    {
      "cell_type": "markdown",
      "source": [
        "## Handling Missing Value"
      ],
      "metadata": {
        "id": "vWnrraRFNDmF"
      }
    },
    {
      "cell_type": "code",
      "source": [
        "dataset.info()"
      ],
      "metadata": {
        "colab": {
          "base_uri": "https://localhost:8080/"
        },
        "id": "nY8r74ikNGdy",
        "outputId": "75438028-f4d9-424c-969e-500da1b17553"
      },
      "execution_count": null,
      "outputs": [
        {
          "output_type": "stream",
          "name": "stdout",
          "text": [
            "<class 'pandas.core.frame.DataFrame'>\n",
            "RangeIndex: 103904 entries, 0 to 103903\n",
            "Data columns (total 25 columns):\n",
            " #   Column                             Non-Null Count   Dtype  \n",
            "---  ------                             --------------   -----  \n",
            " 0   SR                                 103904 non-null  int64  \n",
            " 1   id                                 103904 non-null  int64  \n",
            " 2   Gender                             103904 non-null  object \n",
            " 3   Customer_Type                      103904 non-null  object \n",
            " 4   Age                                103904 non-null  int64  \n",
            " 5   Type_of_Travel                     103904 non-null  object \n",
            " 6   Class                              103904 non-null  object \n",
            " 7   Flight_Distance                    103904 non-null  int64  \n",
            " 8   Inflight_wifi_service              103904 non-null  int64  \n",
            " 9   Departure/Arrival_time_convenient  103904 non-null  int64  \n",
            " 10  Ease_of_Online_booking             103904 non-null  int64  \n",
            " 11  Gate_location                      103904 non-null  int64  \n",
            " 12  Food_and_drink                     103904 non-null  int64  \n",
            " 13  Online_boarding                    103904 non-null  int64  \n",
            " 14  Seat_comfort                       103904 non-null  int64  \n",
            " 15  Inflight_entertainment             103904 non-null  int64  \n",
            " 16  On-board_service                   103904 non-null  int64  \n",
            " 17  Leg_room_service                   103904 non-null  int64  \n",
            " 18  Baggage_handling                   103904 non-null  int64  \n",
            " 19  Checkin_service                    103904 non-null  int64  \n",
            " 20  Inflight_service                   103904 non-null  int64  \n",
            " 21  Cleanliness                        103904 non-null  int64  \n",
            " 22  Departure_Delay_in_Minutes         103904 non-null  int64  \n",
            " 23  Arrival_Delay_in_Minutes           103594 non-null  float64\n",
            " 24  satisfaction                       103904 non-null  object \n",
            "dtypes: float64(1), int64(19), object(5)\n",
            "memory usage: 19.8+ MB\n"
          ]
        }
      ]
    },
    {
      "cell_type": "markdown",
      "source": [
        "Tidak terdapat missing value pada dataset, namun dijelaskan bahwa pada survey, nilai 0 merupakan nilai yang tidak applicable sehingga data survey dengan nilai 0 perlu dihilangkan "
      ],
      "metadata": {
        "id": "MNfspjCxRF-l"
      }
    },
    {
      "cell_type": "code",
      "source": [
        "dataset = dataset[dataset.Checkin_service != 0]\n",
        "\n",
        "dataset = dataset[dataset.Inflight_wifi_service != 0]\n",
        "\n",
        "dataset = dataset[dataset['Departure/Arrival_time_convenient'] != 0]\n",
        "\n",
        "dataset = dataset[dataset.Ease_of_Online_booking != 0]\n",
        "\n",
        "dataset = dataset[dataset.Online_boarding != 0]\n",
        "\n",
        "dataset = dataset[dataset.Leg_room_service != 0]"
      ],
      "metadata": {
        "id": "221fk0RQ-Jeu"
      },
      "execution_count": null,
      "outputs": []
    },
    {
      "cell_type": "markdown",
      "source": [
        "## Handling Outlier "
      ],
      "metadata": {
        "id": "H6ioXieVcSL4"
      }
    },
    {
      "cell_type": "code",
      "source": [
        "# for col in dataset.select_dtypes([np.int64,np.float64]).columns:\n",
        "#   sns.boxplot(x=dataset[col])\n",
        "\n",
        "df1 = dataset.select_dtypes([np.int64,np.float64])\n",
        "for i, col in enumerate(df1.columns):\n",
        "    plt.figure(i)\n",
        "    sns.boxplot(x=dataset[col])"
      ],
      "metadata": {
        "id": "7ER3YVTLFHQ7",
        "colab": {
          "base_uri": "https://localhost:8080/",
          "height": 1000
        },
        "outputId": "0c8e1e84-3caa-4cc9-8d50-04d991194218"
      },
      "execution_count": null,
      "outputs": [
        {
          "output_type": "display_data",
          "data": {
            "text/plain": [
              "<Figure size 432x288 with 1 Axes>"
            ],
            "image/png": "[encoded data removed]"
          },
          "metadata": {
            "needs_background": "light"
          }
        },
        {
          "output_type": "display_data",
          "data": {
            "text/plain": [
              "<Figure size 432x288 with 1 Axes>"
            ],
            "image/png": "[encoded data removed]"
          },
          "metadata": {
            "needs_background": "light"
          }
        },
        {
          "output_type": "display_data",
          "data": {
            "text/plain": [
              "<Figure size 432x288 with 1 Axes>"
            ],
            "image/png": "[encoded data removed]"
          },
          "metadata": {
            "needs_background": "light"
          }
        },
        {
          "output_type": "display_data",
          "data": {
            "text/plain": [
              "<Figure size 432x288 with 1 Axes>"
            ],
            "image/png": "[encoded data removed]"
          },
          "metadata": {
            "needs_background": "light"
          }
        },
        {
          "output_type": "display_data",
          "data": {
            "text/plain": [
              "<Figure size 432x288 with 1 Axes>"
            ],
            "image/png": "[encoded data removed]"
          },
          "metadata": {
            "needs_background": "light"
          }
        },
        {
          "output_type": "display_data",
          "data": {
            "text/plain": [
              "<Figure size 432x288 with 1 Axes>"
            ],
            "image/png": "[encoded data removed]"
          },
          "metadata": {
            "needs_background": "light"
          }
        },
        {
          "output_type": "display_data",
          "data": {
            "text/plain": [
              "<Figure size 432x288 with 1 Axes>"
            ],
            "image/png": "[encoded data removed]"
          },
          "metadata": {
            "needs_background": "light"
          }
        },
        {
          "output_type": "display_data",
          "data": {
            "text/plain": [
              "<Figure size 432x288 with 1 Axes>"
            ],
            "image/png": "[encoded data removed]"
          },
          "metadata": {
            "needs_background": "light"
          }
        },
        {
          "output_type": "display_data",
          "data": {
            "text/plain": [
              "<Figure size 432x288 with 1 Axes>"
            ],
            "image/png": "[encoded data removed]"
          },
          "metadata": {
            "needs_background": "light"
          }
        },
        {
          "output_type": "display_data",
          "data": {
            "text/plain": [
              "<Figure size 432x288 with 1 Axes>"
            ],
            "image/png": "[encoded data removed]"
          },
          "metadata": {
            "needs_background": "light"
          }
        },
        {
          "output_type": "display_data",
          "data": {
            "text/plain": [
              "<Figure size 432x288 with 1 Axes>"
            ],
            "image/png": "[encoded data removed]"
          },
          "metadata": {
            "needs_background": "light"
          }
        },
        {
          "output_type": "display_data",
          "data": {
            "text/plain": [
              "<Figure size 432x288 with 1 Axes>"
            ],
            "image/png": "[encoded data removed]"
          },
          "metadata": {
            "needs_background": "light"
          }
        },
        {
          "output_type": "display_data",
          "data": {
            "text/plain": [
              "<Figure size 432x288 with 1 Axes>"
            ],
            "image/png": "[encoded data removed]"
          },
          "metadata": {
            "needs_background": "light"
          }
        },
        {
          "output_type": "display_data",
          "data": {
            "text/plain": [
              "<Figure size 432x288 with 1 Axes>"
            ],
            "image/png": "[encoded data removed]"
          },
          "metadata": {
            "needs_background": "light"
          }
        },
        {
          "output_type": "display_data",
          "data": {
            "text/plain": [
              "<Figure size 432x288 with 1 Axes>"
            ],
            "image/png": "[encoded data removed]"
          },
          "metadata": {
            "needs_background": "light"
          }
        },
        {
          "output_type": "display_data",
          "data": {
            "text/plain": [
              "<Figure size 432x288 with 1 Axes>"
            ],
            "image/png": "[encoded data removed]"
          },
          "metadata": {
            "needs_background": "light"
          }
        },
        {
          "output_type": "display_data",
          "data": {
            "text/plain": [
              "<Figure size 432x288 with 1 Axes>"
            ],
            "image/png": "[encoded data removed]"
          },
          "metadata": {
            "needs_background": "light"
          }
        },
        {
          "output_type": "display_data",
          "data": {
            "text/plain": [
              "<Figure size 432x288 with 1 Axes>"
            ],
            "image/png": "[encoded data removed]"
          },
          "metadata": {
            "needs_background": "light"
          }
        },
        {
          "output_type": "display_data",
          "data": {
            "text/plain": [
              "<Figure size 432x288 with 1 Axes>"
            ],
            "image/png": "[encoded data removed]"
          },
          "metadata": {
            "needs_background": "light"
          }
        },
        {
          "output_type": "display_data",
          "data": {
            "text/plain": [
              "<Figure size 432x288 with 1 Axes>"
            ],
            "image/png": "[encoded data removed]"
          },
          "metadata": {
            "needs_background": "light"
          }
        }
      ]
    },
    {
      "cell_type": "markdown",
      "source": [
        "Pada boxplot, terlihat terdapat outlier pada feature Flight_distance, Departure_Delay_in_Minutes, dan Arrival_Delay_in_Minutes.\n",
        "\n",
        "Outlier tersebut perlu diperhatikan, karena sangat memungkinkan untuk memberikan informasi baru terkait data. Selain itu, delay pada pesawat merupakan hal yang memungkinkan terjadinya keterlambatan dalam penerbangan pesawat dan ketibaan pesawat dalam waktu yang lama. "
      ],
      "metadata": {
        "id": "h7YWpc4nbZN5"
      }
    },
    {
      "cell_type": "markdown",
      "source": [
        "## Univariate Analysis"
      ],
      "metadata": {
        "id": "bTLMJnkJ3p2E"
      }
    },
    {
      "cell_type": "code",
      "source": [
        "numerical_features = ['Age', 'Flight_Distance', 'Departure_Delay_in_Minutes', 'Arrival_Delay_in_Minutes']\n",
        "categorical_features = ['Gender', \n",
        "                        'Customer_Type', \n",
        "                        'Type_of_Travel', \n",
        "                        'Class',  \n",
        "                        'Inflight_wifi_service', \n",
        "                        'Departure/Arrival_time_convenient', \n",
        "                        'Ease_of_Online_booking', \n",
        "                        'Gate_location', \n",
        "                        'Food_and_drink', \n",
        "                        'Online_boarding', \n",
        "                        'Seat_comfort', \n",
        "                        'Inflight_entertainment', \n",
        "                        'On-board_service', \n",
        "                        'Leg_room_service', \n",
        "                        'Baggage_handling', \n",
        "                        'Checkin_service', \n",
        "                        'Inflight_service', \n",
        "                        'Cleanliness',  \n",
        "                        'satisfaction']"
      ],
      "metadata": {
        "id": "_0GTDPBN4y8e"
      },
      "execution_count": null,
      "outputs": []
    },
    {
      "cell_type": "code",
      "source": [
        "for i, col in enumerate(categorical_features):\n",
        "    plt.figure(i)\n",
        "    count = dataset[col].value_counts()\n",
        "    count.plot(kind='bar', title=col)\n",
        "    print();\n"
      ],
      "metadata": {
        "colab": {
          "base_uri": "https://localhost:8080/",
          "height": 1000
        },
        "id": "0mr2vUI46DJJ",
        "outputId": "3919ca61-2a61-436b-a34d-f8e6e4171819"
      },
      "execution_count": null,
      "outputs": [
        {
          "output_type": "stream",
          "name": "stdout",
          "text": [
            "\n",
            "\n",
            "\n",
            "\n",
            "\n",
            "\n",
            "\n",
            "\n",
            "\n",
            "\n",
            "\n",
            "\n",
            "\n",
            "\n",
            "\n",
            "\n",
            "\n",
            "\n",
            "\n"
          ]
        },
        {
          "output_type": "display_data",
          "data": {
            "text/plain": [
              "<Figure size 432x288 with 1 Axes>"
            ],
            "image/png": "[encoded data removed]"
          },
          "metadata": {
            "needs_background": "light"
          }
        },
        {
          "output_type": "display_data",
          "data": {
            "text/plain": [
              "<Figure size 432x288 with 1 Axes>"
            ],
            "image/png": "[encoded data removed]"
          },
          "metadata": {
            "needs_background": "light"
          }
        },
        {
          "output_type": "display_data",
          "data": {
            "text/plain": [
              "<Figure size 432x288 with 1 Axes>"
            ],
            "image/png": "[encoded data removed]"
          },
          "metadata": {
            "needs_background": "light"
          }
        },
        {
          "output_type": "display_data",
          "data": {
            "text/plain": [
              "<Figure size 432x288 with 1 Axes>"
            ],
            "image/png": "[encoded data removed]"
          },
          "metadata": {
            "needs_background": "light"
          }
        },
        {
          "output_type": "display_data",
          "data": {
            "text/plain": [
              "<Figure size 432x288 with 1 Axes>"
            ],
            "image/png": "[encoded data removed]"
          },
          "metadata": {
            "needs_background": "light"
          }
        },
        {
          "output_type": "display_data",
          "data": {
            "text/plain": [
              "<Figure size 432x288 with 1 Axes>"
            ],
            "image/png": "[encoded data removed]"
          },
          "metadata": {
            "needs_background": "light"
          }
        },
        {
          "output_type": "display_data",
          "data": {
            "text/plain": [
              "<Figure size 432x288 with 1 Axes>"
            ],
            "image/png": "[encoded data removed]"
          },
          "metadata": {
            "needs_background": "light"
          }
        },
        {
          "output_type": "display_data",
          "data": {
            "text/plain": [
              "<Figure size 432x288 with 1 Axes>"
            ],
            "image/png": "[encoded data removed]"
          },
          "metadata": {
            "needs_background": "light"
          }
        },
        {
          "output_type": "display_data",
          "data": {
            "text/plain": [
              "<Figure size 432x288 with 1 Axes>"
            ],
            "image/png": "[encoded data removed]"
          },
          "metadata": {
            "needs_background": "light"
          }
        },
        {
          "output_type": "display_data",
          "data": {
            "text/plain": [
              "<Figure size 432x288 with 1 Axes>"
            ],
            "image/png": "[encoded data removed]"
          },
          "metadata": {
            "needs_background": "light"
          }
        },
        {
          "output_type": "display_data",
          "data": {
            "text/plain": [
              "<Figure size 432x288 with 1 Axes>"
            ],
            "image/png": "[encoded data removed]"
          },
          "metadata": {
            "needs_background": "light"
          }
        },
        {
          "output_type": "display_data",
          "data": {
            "text/plain": [
              "<Figure size 432x288 with 1 Axes>"
            ],
            "image/png": "[encoded data removed]"
          },
          "metadata": {
            "needs_background": "light"
          }
        },
        {
          "output_type": "display_data",
          "data": {
            "text/plain": [
              "<Figure size 432x288 with 1 Axes>"
            ],
            "image/png": "[encoded data removed]"
          },
          "metadata": {
            "needs_background": "light"
          }
        },
        {
          "output_type": "display_data",
          "data": {
            "text/plain": [
              "<Figure size 432x288 with 1 Axes>"
            ],
            "image/png": "[encoded data removed]"
          },
          "metadata": {
            "needs_background": "light"
          }
        },
        {
          "output_type": "display_data",
          "data": {
            "text/plain": [
              "<Figure size 432x288 with 1 Axes>"
            ],
            "image/png": "[encoded data removed]"
          },
          "metadata": {
            "needs_background": "light"
          }
        },
        {
          "output_type": "display_data",
          "data": {
            "text/plain": [
              "<Figure size 432x288 with 1 Axes>"
            ],
            "image/png": "[encoded data removed]"
          },
          "metadata": {
            "needs_background": "light"
          }
        },
        {
          "output_type": "display_data",
          "data": {
            "text/plain": [
              "<Figure size 432x288 with 1 Axes>"
            ],
            "image/png": "[encoded data removed]"
          },
          "metadata": {
            "needs_background": "light"
          }
        },
        {
          "output_type": "display_data",
          "data": {
            "text/plain": [
              "<Figure size 432x288 with 1 Axes>"
            ],
            "image/png": "[encoded data removed]"
          },
          "metadata": {
            "needs_background": "light"
          }
        },
        {
          "output_type": "display_data",
          "data": {
            "text/plain": [
              "<Figure size 432x288 with 1 Axes>"
            ],
            "image/png": "[encoded data removed]"
          },
          "metadata": {
            "needs_background": "light"
          }
        }
      ]
    },
    {
      "cell_type": "markdown",
      "source": [
        "Terdapat beberapa point yang dapat diambil : \n",
        "\n",
        "1. Distribusi gender laki - laki dan perempuan yang mengisi survey cukup merata\n",
        "2. Sebagian besar pengisi survey adalah loyal customer\n",
        "3. Sebagian besar tujuan travel penumpang adalah untuk urusan bisnis\n",
        "4. Kelas bisnis merupakan kelas yang paling banyak dipilih diikuti kelas eco dan eco plus\n",
        "5. Kebersihan, Layanan maskapai, layanan Check in, Penanganan bagasi, Ruang kaki pada pesawat, \n",
        "pelayanan selama penerbangan, hiburan, kenyamanan kursi, ketepatan waktu sampai dan berangkat\n",
        " maskapai memiliki rating cukup baik.\n",
        "6. Online boarding,makanan dan minuman, lokasi gate, kemudahan online booking, layanan wifi selama penerbangan\n",
        "memiliki rating yang kurang baik.\n",
        "7. Secara umum, penumpang tidak merasa puas/ netral terhadap layanan maskapai"
      ],
      "metadata": {
        "id": "by_2t6tNBFkb"
      }
    },
    {
      "cell_type": "code",
      "source": [
        "dataset_satisfaction = pd.get_dummies(dataset['satisfaction'])\n",
        "dataset = pd.concat([dataset, dataset_satisfaction], axis=1).reindex(dataset.index)\n",
        "dataset.drop('satisfaction', axis=1, inplace=True)"
      ],
      "metadata": {
        "id": "0BlUSESOfdxS"
      },
      "execution_count": null,
      "outputs": []
    },
    {
      "cell_type": "code",
      "source": [
        "dataset = dataset.drop('SR', axis=1)\n",
        "dataset = dataset.drop('neutral or dissatisfied', axis=1)"
      ],
      "metadata": {
        "id": "SiJrAnptBX41"
      },
      "execution_count": null,
      "outputs": []
    },
    {
      "cell_type": "markdown",
      "source": [
        "## Multivariate analysis"
      ],
      "metadata": {
        "id": "GEjiqnjyfEWQ"
      }
    },
    {
      "cell_type": "code",
      "source": [
        "plt.figure(figsize=(20, 15))\n",
        "correlation_matrix = dataset.corr().round(2)\n",
        " \n",
        "# Untuk menge-print nilai di dalam kotak, gunakan parameter anot=True\n",
        "sns.heatmap(data=correlation_matrix, annot=True, cmap='coolwarm', linewidths=0.5, )\n",
        "plt.title(\"Correlation Matrix untuk Fitur Numerik \", size=20)"
      ],
      "metadata": {
        "id": "tQZ11ykUFHI6",
        "colab": {
          "base_uri": "https://localhost:8080/",
          "height": 889
        },
        "outputId": "9a0b423e-7a90-4a9d-c94c-1132c2cd5415"
      },
      "execution_count": null,
      "outputs": [
        {
          "output_type": "execute_result",
          "data": {
            "text/plain": [
              "Text(0.5, 1.0, 'Correlation Matrix untuk Fitur Numerik ')"
            ]
          },
          "metadata": {},
          "execution_count": 12
        },
        {
          "output_type": "display_data",
          "data": {
            "text/plain": [
              "<Figure size 1440x1080 with 2 Axes>"
            ],
            "image/png": "[encoded data removed]"
          },
          "metadata": {
            "needs_background": "light"
          }
        }
      ]
    },
    {
      "cell_type": "markdown",
      "source": [
        "Untuk mencari korelasi antar feature, manfaatkan visualisasi heatmap. Dalam proses visualisasi heatmap, nilai target satisfaction memiliki korelasi positif yang cukup erat terhadap Online_boarding dan inflight_entertaiment. Selain itu, dipilih juga feature lainnya yang memiliki korelasi cukup erat terhadap 2 feature tersebut yaitu inflight_wifi_service dan cleanliness untuk menghidari teradinya overfitting terhadap 2 feature dikarena reduksi yang cukup signifikan.\n"
      ],
      "metadata": {
        "id": "LHF74J-ck66V"
      }
    },
    {
      "cell_type": "markdown",
      "source": [
        "# Data Preparation"
      ],
      "metadata": {
        "id": "_L_m59XqF-BN"
      }
    },
    {
      "cell_type": "markdown",
      "source": [
        "## Reduksi Feature"
      ],
      "metadata": {
        "id": "L-6AyqHLgCU8"
      }
    },
    {
      "cell_type": "markdown",
      "source": [
        "Proses reduksi feature dilakukan untuk mengurangi jumlah fitur yang digunakan dalam parameter namun tetap mendapatkan sebagian informasi yang dibutuhkan. Dengan demikian, proses training dapat dilakukan lebih cepat dan efisien karena feature yang diproses telah mencakup sebagian besar informasi. Selain itu, hal ini dapat dilakukan untuk menghindari terjadinya kasus overfitting. \n",
        "\n",
        "Feature yang akan direduksi meliputi ffeature lainnya selain feature yang telah dipertimbangkan pada multivariate analysis. Proses update dapat dilakukan dengan membuang kolom yang tidak digunakan dan tetap menyimpan feature yang dibutuhkan pada dataset."
      ],
      "metadata": {
        "id": "4Vf7Vci2k-4O"
      }
    },
    {
      "cell_type": "code",
      "source": [
        "updated_dataset = dataset.drop(['id', \n",
        "                                'Food_and_drink', \n",
        "                                'Seat_comfort', \n",
        "                                'On-board_service', \n",
        "                                'Leg_room_service', \n",
        "                                'Baggage_handling', \n",
        "                                'Checkin_service', \n",
        "                                'Inflight_service', \n",
        "                                'Age', \n",
        "                                'Departure/Arrival_time_convenient', \n",
        "                                'Ease_of_Online_booking', 'Flight_Distance', \n",
        "                                'Departure_Delay_in_Minutes', \n",
        "                                'Arrival_Delay_in_Minutes', \n",
        "                                'Gate_location', \n",
        "                                'Departure/Arrival_time_convenient'], axis=1)\n",
        "updated_dataset.head()"
      ],
      "metadata": {
        "colab": {
          "base_uri": "https://localhost:8080/",
          "height": 287
        },
        "id": "7GXE7oGri2no",
        "outputId": "6bfdfe1d-b890-4509-eb1f-72ddc20abd87"
      },
      "execution_count": null,
      "outputs": [
        {
          "output_type": "execute_result",
          "data": {
            "text/plain": [
              "   Gender      Customer_Type   Type_of_Travel     Class  \\\n",
              "0    Male     Loyal Customer  Personal Travel  Eco Plus   \n",
              "1    Male  disloyal Customer  Business travel  Business   \n",
              "2  Female     Loyal Customer  Business travel  Business   \n",
              "3  Female     Loyal Customer  Business travel  Business   \n",
              "4    Male     Loyal Customer  Business travel  Business   \n",
              "\n",
              "   Inflight_wifi_service  Online_boarding  Inflight_entertainment  \\\n",
              "0                      3                3                       5   \n",
              "1                      3                3                       1   \n",
              "2                      2                5                       5   \n",
              "3                      2                2                       2   \n",
              "4                      3                5                       3   \n",
              "\n",
              "   Cleanliness  satisfied  \n",
              "0            5          0  \n",
              "1            1          0  \n",
              "2            5          1  \n",
              "3            2          0  \n",
              "4            3          1  "
            ],
            "text/html": [
              "\n",
              "  <div id=\"df-4f703cc2-74e2-4621-aa8e-38f83b959a9e\">\n",
              "    <div class=\"colab-df-container\">\n",
              "      <div>\n",
              "<style scoped>\n",
              "    .dataframe tbody tr th:only-of-type {\n",
              "        vertical-align: middle;\n",
              "    }\n",
              "\n",
              "    .dataframe tbody tr th {\n",
              "        vertical-align: top;\n",
              "    }\n",
              "\n",
              "    .dataframe thead th {\n",
              "        text-align: right;\n",
              "    }\n",
              "</style>\n",
              "<table border=\"1\" class=\"dataframe\">\n",
              "  <thead>\n",
              "    <tr style=\"text-align: right;\">\n",
              "      <th></th>\n",
              "      <th>Gender</th>\n",
              "      <th>Customer_Type</th>\n",
              "      <th>Type_of_Travel</th>\n",
              "      <th>Class</th>\n",
              "      <th>Inflight_wifi_service</th>\n",
              "      <th>Online_boarding</th>\n",
              "      <th>Inflight_entertainment</th>\n",
              "      <th>Cleanliness</th>\n",
              "      <th>satisfied</th>\n",
              "    </tr>\n",
              "  </thead>\n",
              "  <tbody>\n",
              "    <tr>\n",
              "      <th>0</th>\n",
              "      <td>Male</td>\n",
              "      <td>Loyal Customer</td>\n",
              "      <td>Personal Travel</td>\n",
              "      <td>Eco Plus</td>\n",
              "      <td>3</td>\n",
              "      <td>3</td>\n",
              "      <td>5</td>\n",
              "      <td>5</td>\n",
              "      <td>0</td>\n",
              "    </tr>\n",
              "    <tr>\n",
              "      <th>1</th>\n",
              "      <td>Male</td>\n",
              "      <td>disloyal Customer</td>\n",
              "      <td>Business travel</td>\n",
              "      <td>Business</td>\n",
              "      <td>3</td>\n",
              "      <td>3</td>\n",
              "      <td>1</td>\n",
              "      <td>1</td>\n",
              "      <td>0</td>\n",
              "    </tr>\n",
              "    <tr>\n",
              "      <th>2</th>\n",
              "      <td>Female</td>\n",
              "      <td>Loyal Customer</td>\n",
              "      <td>Business travel</td>\n",
              "      <td>Business</td>\n",
              "      <td>2</td>\n",
              "      <td>5</td>\n",
              "      <td>5</td>\n",
              "      <td>5</td>\n",
              "      <td>1</td>\n",
              "    </tr>\n",
              "    <tr>\n",
              "      <th>3</th>\n",
              "      <td>Female</td>\n",
              "      <td>Loyal Customer</td>\n",
              "      <td>Business travel</td>\n",
              "      <td>Business</td>\n",
              "      <td>2</td>\n",
              "      <td>2</td>\n",
              "      <td>2</td>\n",
              "      <td>2</td>\n",
              "      <td>0</td>\n",
              "    </tr>\n",
              "    <tr>\n",
              "      <th>4</th>\n",
              "      <td>Male</td>\n",
              "      <td>Loyal Customer</td>\n",
              "      <td>Business travel</td>\n",
              "      <td>Business</td>\n",
              "      <td>3</td>\n",
              "      <td>5</td>\n",
              "      <td>3</td>\n",
              "      <td>3</td>\n",
              "      <td>1</td>\n",
              "    </tr>\n",
              "  </tbody>\n",
              "</table>\n",
              "</div>\n",
              "      <button class=\"colab-df-convert\" onclick=\"convertToInteractive('df-4f703cc2-74e2-4621-aa8e-38f83b959a9e')\"\n",
              "              title=\"Convert this dataframe to an interactive table.\"\n",
              "              style=\"display:none;\">\n",
              "        \n",
              "  <svg xmlns=\"http://www.w3.org/2000/svg\" height=\"24px\"viewBox=\"0 0 24 24\"\n",
              "       width=\"24px\">\n",
              "    <path d=\"M0 0h24v24H0V0z\" fill=\"none\"/>\n",
              "    <path d=\"M18.56 5.44l.94 2.06.94-2.06 2.06-.94-2.06-.94-.94-2.06-.94 2.06-2.06.94zm-11 1L8.5 8.5l.94-2.06 2.06-.94-2.06-.94L8.5 2.5l-.94 2.06-2.06.94zm10 10l.94 2.06.94-2.06 2.06-.94-2.06-.94-.94-2.06-.94 2.06-2.06.94z\"/><path d=\"M17.41 7.96l-1.37-1.37c-.4-.4-.92-.59-1.43-.59-.52 0-1.04.2-1.43.59L10.3 9.45l-7.72 7.72c-.78.78-.78 2.05 0 2.83L4 21.41c.39.39.9.59 1.41.59.51 0 1.02-.2 1.41-.59l7.78-7.78 2.81-2.81c.8-.78.8-2.07 0-2.86zM5.41 20L4 18.59l7.72-7.72 1.47 1.35L5.41 20z\"/>\n",
              "  </svg>\n",
              "      </button>\n",
              "      \n",
              "  <style>\n",
              "    .colab-df-container {\n",
              "      display:flex;\n",
              "      flex-wrap:wrap;\n",
              "      gap: 12px;\n",
              "    }\n",
              "\n",
              "    .colab-df-convert {\n",
              "      background-color: #E8F0FE;\n",
              "      border: none;\n",
              "      border-radius: 50%;\n",
              "      cursor: pointer;\n",
              "      display: none;\n",
              "      fill: #1967D2;\n",
              "      height: 32px;\n",
              "      padding: 0 0 0 0;\n",
              "      width: 32px;\n",
              "    }\n",
              "\n",
              "    .colab-df-convert:hover {\n",
              "      background-color: #E2EBFA;\n",
              "      box-shadow: 0px 1px 2px rgba(60, 64, 67, 0.3), 0px 1px 3px 1px rgba(60, 64, 67, 0.15);\n",
              "      fill: #174EA6;\n",
              "    }\n",
              "\n",
              "    [theme=dark] .colab-df-convert {\n",
              "      background-color: #3B4455;\n",
              "      fill: #D2E3FC;\n",
              "    }\n",
              "\n",
              "    [theme=dark] .colab-df-convert:hover {\n",
              "      background-color: #434B5C;\n",
              "      box-shadow: 0px 1px 3px 1px rgba(0, 0, 0, 0.15);\n",
              "      filter: drop-shadow(0px 1px 2px rgba(0, 0, 0, 0.3));\n",
              "      fill: #FFFFFF;\n",
              "    }\n",
              "  </style>\n",
              "\n",
              "      <script>\n",
              "        const buttonEl =\n",
              "          document.querySelector('#df-4f703cc2-74e2-4621-aa8e-38f83b959a9e button.colab-df-convert');\n",
              "        buttonEl.style.display =\n",
              "          google.colab.kernel.accessAllowed ? 'block' : 'none';\n",
              "\n",
              "        async function convertToInteractive(key) {\n",
              "          const element = document.querySelector('#df-4f703cc2-74e2-4621-aa8e-38f83b959a9e');\n",
              "          const dataTable =\n",
              "            await google.colab.kernel.invokeFunction('convertToInteractive',\n",
              "                                                     [key], {});\n",
              "          if (!dataTable) return;\n",
              "\n",
              "          const docLinkHtml = 'Like what you see? Visit the ' +\n",
              "            '<a target=\"_blank\" href=https://colab.research.google.com/notebooks/data_table.ipynb>data table notebook</a>'\n",
              "            + ' to learn more about interactive tables.';\n",
              "          element.innerHTML = '';\n",
              "          dataTable['output_type'] = 'display_data';\n",
              "          await google.colab.output.renderOutput(dataTable, element);\n",
              "          const docLink = document.createElement('div');\n",
              "          docLink.innerHTML = docLinkHtml;\n",
              "          element.appendChild(docLink);\n",
              "        }\n",
              "      </script>\n",
              "    </div>\n",
              "  </div>\n",
              "  "
            ]
          },
          "metadata": {},
          "execution_count": 13
        }
      ]
    },
    {
      "cell_type": "markdown",
      "source": [
        "## Category feature encoding"
      ],
      "metadata": {
        "id": "2mzT6gxAgKRO"
      }
    },
    {
      "cell_type": "markdown",
      "source": [
        "Melakukan proses one-hot encoding terhadap categorical feature. Hal ini dilakukan agar model dapat mengetahui nilai dari feature tersebut sehingga bisa mendapatkan informasi yang dibutuhkan atau berguna."
      ],
      "metadata": {
        "id": "ZxkQSZEolHla"
      }
    },
    {
      "cell_type": "code",
      "source": [
        "from sklearn.preprocessing import  OneHotEncoder\n",
        "updated_dataset = pd.concat([updated_dataset, pd.get_dummies(updated_dataset['Gender'], prefix='Gender')],axis=1)\n",
        "updated_dataset = pd.concat([updated_dataset, pd.get_dummies(updated_dataset['Customer_Type'], prefix='Customer_Type')],axis=1)\n",
        "updated_dataset = pd.concat([updated_dataset, pd.get_dummies(updated_dataset['Type_of_Travel'], prefix='Type_of_Travel')],axis=1)\n",
        "updated_dataset = pd.concat([updated_dataset, pd.get_dummies(updated_dataset['Class'], prefix='Class')],axis=1)\n",
        "\n",
        "updated_dataset.drop(['Gender','Customer_Type','Type_of_Travel', 'Class'], axis=1, inplace=True)\n",
        "updated_dataset.head()"
      ],
      "metadata": {
        "colab": {
          "base_uri": "https://localhost:8080/",
          "height": 287
        },
        "id": "_1XOhVwAkSwC",
        "outputId": "3c1392e0-2467-4b56-ca7c-7fb630abf1f9"
      },
      "execution_count": null,
      "outputs": [
        {
          "output_type": "execute_result",
          "data": {
            "text/plain": [
              "   Inflight_wifi_service  Online_boarding  Inflight_entertainment  \\\n",
              "0                      3                3                       5   \n",
              "1                      3                3                       1   \n",
              "2                      2                5                       5   \n",
              "3                      2                2                       2   \n",
              "4                      3                5                       3   \n",
              "\n",
              "   Cleanliness  satisfied  Gender_Female  Gender_Male  \\\n",
              "0            5          0              0            1   \n",
              "1            1          0              0            1   \n",
              "2            5          1              1            0   \n",
              "3            2          0              1            0   \n",
              "4            3          1              0            1   \n",
              "\n",
              "   Customer_Type_Loyal Customer  Customer_Type_disloyal Customer  \\\n",
              "0                             1                                0   \n",
              "1                             0                                1   \n",
              "2                             1                                0   \n",
              "3                             1                                0   \n",
              "4                             1                                0   \n",
              "\n",
              "   Type_of_Travel_Business travel  Type_of_Travel_Personal Travel  \\\n",
              "0                               0                               1   \n",
              "1                               1                               0   \n",
              "2                               1                               0   \n",
              "3                               1                               0   \n",
              "4                               1                               0   \n",
              "\n",
              "   Class_Business  Class_Eco  Class_Eco Plus  \n",
              "0               0          0               1  \n",
              "1               1          0               0  \n",
              "2               1          0               0  \n",
              "3               1          0               0  \n",
              "4               1          0               0  "
            ],
            "text/html": [
              "\n",
              "  <div id=\"df-b3c2f935-3962-498a-95a6-70bd5509d6ab\">\n",
              "    <div class=\"colab-df-container\">\n",
              "      <div>\n",
              "<style scoped>\n",
              "    .dataframe tbody tr th:only-of-type {\n",
              "        vertical-align: middle;\n",
              "    }\n",
              "\n",
              "    .dataframe tbody tr th {\n",
              "        vertical-align: top;\n",
              "    }\n",
              "\n",
              "    .dataframe thead th {\n",
              "        text-align: right;\n",
              "    }\n",
              "</style>\n",
              "<table border=\"1\" class=\"dataframe\">\n",
              "  <thead>\n",
              "    <tr style=\"text-align: right;\">\n",
              "      <th></th>\n",
              "      <th>Inflight_wifi_service</th>\n",
              "      <th>Online_boarding</th>\n",
              "      <th>Inflight_entertainment</th>\n",
              "      <th>Cleanliness</th>\n",
              "      <th>satisfied</th>\n",
              "      <th>Gender_Female</th>\n",
              "      <th>Gender_Male</th>\n",
              "      <th>Customer_Type_Loyal Customer</th>\n",
              "      <th>Customer_Type_disloyal Customer</th>\n",
              "      <th>Type_of_Travel_Business travel</th>\n",
              "      <th>Type_of_Travel_Personal Travel</th>\n",
              "      <th>Class_Business</th>\n",
              "      <th>Class_Eco</th>\n",
              "      <th>Class_Eco Plus</th>\n",
              "    </tr>\n",
              "  </thead>\n",
              "  <tbody>\n",
              "    <tr>\n",
              "      <th>0</th>\n",
              "      <td>3</td>\n",
              "      <td>3</td>\n",
              "      <td>5</td>\n",
              "      <td>5</td>\n",
              "      <td>0</td>\n",
              "      <td>0</td>\n",
              "      <td>1</td>\n",
              "      <td>1</td>\n",
              "      <td>0</td>\n",
              "      <td>0</td>\n",
              "      <td>1</td>\n",
              "      <td>0</td>\n",
              "      <td>0</td>\n",
              "      <td>1</td>\n",
              "    </tr>\n",
              "    <tr>\n",
              "      <th>1</th>\n",
              "      <td>3</td>\n",
              "      <td>3</td>\n",
              "      <td>1</td>\n",
              "      <td>1</td>\n",
              "      <td>0</td>\n",
              "      <td>0</td>\n",
              "      <td>1</td>\n",
              "      <td>0</td>\n",
              "      <td>1</td>\n",
              "      <td>1</td>\n",
              "      <td>0</td>\n",
              "      <td>1</td>\n",
              "      <td>0</td>\n",
              "      <td>0</td>\n",
              "    </tr>\n",
              "    <tr>\n",
              "      <th>2</th>\n",
              "      <td>2</td>\n",
              "      <td>5</td>\n",
              "      <td>5</td>\n",
              "      <td>5</td>\n",
              "      <td>1</td>\n",
              "      <td>1</td>\n",
              "      <td>0</td>\n",
              "      <td>1</td>\n",
              "      <td>0</td>\n",
              "      <td>1</td>\n",
              "      <td>0</td>\n",
              "      <td>1</td>\n",
              "      <td>0</td>\n",
              "      <td>0</td>\n",
              "    </tr>\n",
              "    <tr>\n",
              "      <th>3</th>\n",
              "      <td>2</td>\n",
              "      <td>2</td>\n",
              "      <td>2</td>\n",
              "      <td>2</td>\n",
              "      <td>0</td>\n",
              "      <td>1</td>\n",
              "      <td>0</td>\n",
              "      <td>1</td>\n",
              "      <td>0</td>\n",
              "      <td>1</td>\n",
              "      <td>0</td>\n",
              "      <td>1</td>\n",
              "      <td>0</td>\n",
              "      <td>0</td>\n",
              "    </tr>\n",
              "    <tr>\n",
              "      <th>4</th>\n",
              "      <td>3</td>\n",
              "      <td>5</td>\n",
              "      <td>3</td>\n",
              "      <td>3</td>\n",
              "      <td>1</td>\n",
              "      <td>0</td>\n",
              "      <td>1</td>\n",
              "      <td>1</td>\n",
              "      <td>0</td>\n",
              "      <td>1</td>\n",
              "      <td>0</td>\n",
              "      <td>1</td>\n",
              "      <td>0</td>\n",
              "      <td>0</td>\n",
              "    </tr>\n",
              "  </tbody>\n",
              "</table>\n",
              "</div>\n",
              "      <button class=\"colab-df-convert\" onclick=\"convertToInteractive('df-b3c2f935-3962-498a-95a6-70bd5509d6ab')\"\n",
              "              title=\"Convert this dataframe to an interactive table.\"\n",
              "              style=\"display:none;\">\n",
              "        \n",
              "  <svg xmlns=\"http://www.w3.org/2000/svg\" height=\"24px\"viewBox=\"0 0 24 24\"\n",
              "       width=\"24px\">\n",
              "    <path d=\"M0 0h24v24H0V0z\" fill=\"none\"/>\n",
              "    <path d=\"M18.56 5.44l.94 2.06.94-2.06 2.06-.94-2.06-.94-.94-2.06-.94 2.06-2.06.94zm-11 1L8.5 8.5l.94-2.06 2.06-.94-2.06-.94L8.5 2.5l-.94 2.06-2.06.94zm10 10l.94 2.06.94-2.06 2.06-.94-2.06-.94-.94-2.06-.94 2.06-2.06.94z\"/><path d=\"M17.41 7.96l-1.37-1.37c-.4-.4-.92-.59-1.43-.59-.52 0-1.04.2-1.43.59L10.3 9.45l-7.72 7.72c-.78.78-.78 2.05 0 2.83L4 21.41c.39.39.9.59 1.41.59.51 0 1.02-.2 1.41-.59l7.78-7.78 2.81-2.81c.8-.78.8-2.07 0-2.86zM5.41 20L4 18.59l7.72-7.72 1.47 1.35L5.41 20z\"/>\n",
              "  </svg>\n",
              "      </button>\n",
              "      \n",
              "  <style>\n",
              "    .colab-df-container {\n",
              "      display:flex;\n",
              "      flex-wrap:wrap;\n",
              "      gap: 12px;\n",
              "    }\n",
              "\n",
              "    .colab-df-convert {\n",
              "      background-color: #E8F0FE;\n",
              "      border: none;\n",
              "      border-radius: 50%;\n",
              "      cursor: pointer;\n",
              "      display: none;\n",
              "      fill: #1967D2;\n",
              "      height: 32px;\n",
              "      padding: 0 0 0 0;\n",
              "      width: 32px;\n",
              "    }\n",
              "\n",
              "    .colab-df-convert:hover {\n",
              "      background-color: #E2EBFA;\n",
              "      box-shadow: 0px 1px 2px rgba(60, 64, 67, 0.3), 0px 1px 3px 1px rgba(60, 64, 67, 0.15);\n",
              "      fill: #174EA6;\n",
              "    }\n",
              "\n",
              "    [theme=dark] .colab-df-convert {\n",
              "      background-color: #3B4455;\n",
              "      fill: #D2E3FC;\n",
              "    }\n",
              "\n",
              "    [theme=dark] .colab-df-convert:hover {\n",
              "      background-color: #434B5C;\n",
              "      box-shadow: 0px 1px 3px 1px rgba(0, 0, 0, 0.15);\n",
              "      filter: drop-shadow(0px 1px 2px rgba(0, 0, 0, 0.3));\n",
              "      fill: #FFFFFF;\n",
              "    }\n",
              "  </style>\n",
              "\n",
              "      <script>\n",
              "        const buttonEl =\n",
              "          document.querySelector('#df-b3c2f935-3962-498a-95a6-70bd5509d6ab button.colab-df-convert');\n",
              "        buttonEl.style.display =\n",
              "          google.colab.kernel.accessAllowed ? 'block' : 'none';\n",
              "\n",
              "        async function convertToInteractive(key) {\n",
              "          const element = document.querySelector('#df-b3c2f935-3962-498a-95a6-70bd5509d6ab');\n",
              "          const dataTable =\n",
              "            await google.colab.kernel.invokeFunction('convertToInteractive',\n",
              "                                                     [key], {});\n",
              "          if (!dataTable) return;\n",
              "\n",
              "          const docLinkHtml = 'Like what you see? Visit the ' +\n",
              "            '<a target=\"_blank\" href=https://colab.research.google.com/notebooks/data_table.ipynb>data table notebook</a>'\n",
              "            + ' to learn more about interactive tables.';\n",
              "          element.innerHTML = '';\n",
              "          dataTable['output_type'] = 'display_data';\n",
              "          await google.colab.output.renderOutput(dataTable, element);\n",
              "          const docLink = document.createElement('div');\n",
              "          docLink.innerHTML = docLinkHtml;\n",
              "          element.appendChild(docLink);\n",
              "        }\n",
              "      </script>\n",
              "    </div>\n",
              "  </div>\n",
              "  "
            ]
          },
          "metadata": {},
          "execution_count": 14
        }
      ]
    },
    {
      "cell_type": "markdown",
      "source": [
        "## Train-Test-Split"
      ],
      "metadata": {
        "id": "s_UWsfElgTVU"
      }
    },
    {
      "cell_type": "markdown",
      "source": [
        "Proses membagi data menjadi data latih dan data uji sangat berguna untuk mengevaluasi seberapa baik model kita dalam melakukan proses prediksi jika diberikan sebuah data baru diluar data latih. Dengan demikian, jika terjadi oerfit dapat diketahui dengan cepat dan proses optimalisasi dapat dilakukan sedini mungkin."
      ],
      "metadata": {
        "id": "C9KOTD4ilMZU"
      }
    },
    {
      "cell_type": "code",
      "source": [
        "from sklearn.model_selection import train_test_split\n",
        " \n",
        "X = updated_dataset.drop([\"satisfied\"],axis =1)\n",
        "y = updated_dataset[\"satisfied\"]\n",
        "X_train, X_test, y_train, y_test = train_test_split(X, y, test_size = 0.1, random_state = 123)"
      ],
      "metadata": {
        "id": "6zlWSUj1lHvq"
      },
      "execution_count": null,
      "outputs": []
    },
    {
      "cell_type": "code",
      "source": [
        "print(f'Total # of sample in whole dataset: {len(X)}')\n",
        "print(f'Total # of sample in train dataset: {len(X_train)}')\n",
        "print(f'Total # of sample in test dataset: {len(X_test)}')"
      ],
      "metadata": {
        "colab": {
          "base_uri": "https://localhost:8080/"
        },
        "id": "shBHcn2em8mV",
        "outputId": "f0086ad8-18a2-49de-f6a2-4d898c24a0bb"
      },
      "execution_count": null,
      "outputs": [
        {
          "output_type": "stream",
          "name": "stdout",
          "text": [
            "Total # of sample in whole dataset: 95711\n",
            "Total # of sample in train dataset: 86139\n",
            "Total # of sample in test dataset: 9572\n"
          ]
        }
      ]
    },
    {
      "cell_type": "markdown",
      "source": [
        "pada data test cukup menggunakan 10% data dari keseluruhan dataset saja dikarenakan jumlah data yng cukup besar pada dataset dan 10% dari dataset memiliki jumlah yang cukup sebagai data uji.\n"
      ],
      "metadata": {
        "id": "nb1a2jdElOCL"
      }
    },
    {
      "cell_type": "markdown",
      "source": [
        "# Model Development"
      ],
      "metadata": {
        "id": "mIlquAZlnkse"
      }
    },
    {
      "cell_type": "markdown",
      "source": [
        "Pada model development, akan dilakukan percobaan pada 3 model yaitu : \n",
        "- KNN\n",
        "- SVM\n",
        "- Decision Tree"
      ],
      "metadata": {
        "id": "_8AcoFtQlTWB"
      }
    },
    {
      "cell_type": "markdown",
      "source": [
        "## KNN"
      ],
      "metadata": {
        "id": "erRg3MIj2Go8"
      }
    },
    {
      "cell_type": "markdown",
      "source": [
        "\n",
        "Akan dilakukan proses import library yang dibutuhkan. Kemudian, inisiasi KNeighborsClassifier dengan parameter n_neighbors=10 dan p=2, \n",
        "dimana n_neighbors merupakan parameter yang digunakan untuk menentukan jumlah point tetangga yang dibutuhkan dalam proses klasifikasi. Dalam menentukan jarak, metric yang digunakan adalah metric minowski (p=2). Lakukan proses latih pada data train dan proses uji pada data test. "
      ],
      "metadata": {
        "id": "v1IJmQAplfgD"
      }
    },
    {
      "cell_type": "markdown",
      "source": [
        "Kelebihan model KNN:\n",
        "- Model KNN akan memiliki performa yang baik karena periode training. \n",
        "- Selain itu, KNN juga mudah untuk diimplementasi\n",
        "\n",
        "Kelemahan model KNN:\n",
        "- Mode KNN krang efektif jika dijalankan pada big dataset karena perlu menghitung jarak tiap point\n",
        "- Kurang efektif pada data dengan dimensi tinggi"
      ],
      "metadata": {
        "id": "hjvahUdllkC7"
      }
    },
    {
      "cell_type": "code",
      "source": [
        "from sklearn.neighbors import KNeighborsClassifier\n",
        "from sklearn.metrics import mean_squared_error\n",
        " \n",
        "knn = KNeighborsClassifier(n_neighbors=10, p=2)\n",
        "knn.fit(X_train, y_train)"
      ],
      "metadata": {
        "id": "r_P2PHeVnn4I",
        "colab": {
          "base_uri": "https://localhost:8080/"
        },
        "outputId": "e38b5f33-7e03-4806-c092-5e6e57d24126"
      },
      "execution_count": null,
      "outputs": [
        {
          "output_type": "execute_result",
          "data": {
            "text/plain": [
              "KNeighborsClassifier(n_neighbors=10)"
            ]
          },
          "metadata": {},
          "execution_count": 17
        }
      ]
    },
    {
      "cell_type": "code",
      "source": [
        "y_pred = knn.predict(X_test)"
      ],
      "metadata": {
        "id": "VVS_l9RP0yxc"
      },
      "execution_count": null,
      "outputs": []
    },
    {
      "cell_type": "code",
      "source": [
        "from sklearn.metrics import confusion_matrix,accuracy_score\n",
        "cm = confusion_matrix(y_test, y_pred)\n",
        "ac = accuracy_score(y_test,y_pred)"
      ],
      "metadata": {
        "id": "lTJPOlz91Vmt"
      },
      "execution_count": null,
      "outputs": []
    },
    {
      "cell_type": "code",
      "source": [
        "ac\n",
        "\n",
        "# Source : https://www.analyticsvidhya.com/blog/2021/01/a-quick-introduction-to-k-nearest-neighbor-knn-classification-using-python/"
      ],
      "metadata": {
        "colab": {
          "base_uri": "https://localhost:8080/"
        },
        "id": "RwHAiPZn1_fY",
        "outputId": "f646170a-5728-4689-aec5-aa6a48029643"
      },
      "execution_count": null,
      "outputs": [
        {
          "output_type": "execute_result",
          "data": {
            "text/plain": [
              "0.9308399498537401"
            ]
          },
          "metadata": {},
          "execution_count": 20
        }
      ]
    },
    {
      "cell_type": "markdown",
      "source": [
        "## SVM"
      ],
      "metadata": {
        "id": "HYe8FraZ2UlT"
      }
    },
    {
      "cell_type": "markdown",
      "source": [
        "Akan dilakukan proses import library yang dibutuhkan. Kemudian, inisiasi SVC dengan parameter kernel='linear' dan random_state=0, \n",
        "dimana kernel merupakan parameter yang digunakan untuk mendapat data dan melakukan transformasi kedalam bentuk tertentu untuk dilakukan processing data. Linear merupakan parameter jika data dapat dipisahkan dengan memanfaatkan 1 garis. Random_state = 0 dipilih agar saat mengenerate data, maka data akan dilakukan secara acak. Lakukan proses latih pada data train dan proses uji pada data test. "
      ],
      "metadata": {
        "id": "qG4zVl8JlmIa"
      }
    },
    {
      "cell_type": "markdown",
      "source": [
        "Kelebihan model SVM:\n",
        "- Model SVM akan memiliki performa yang baik pada dimensi tinggi. \n",
        "- Selain itu, SVM juga cukup efisien dan outlier tidak memberikan dampak signifikan terhadap hasil \n",
        "\n",
        "Kelemahan model SVM:\n",
        "- Mode SVM cukup lambat jika dijalankan pada big dataset\n"
      ],
      "metadata": {
        "id": "gWT21Az_ll8A"
      }
    },
    {
      "cell_type": "code",
      "source": [
        "from sklearn.svm import SVC\n",
        "\n",
        "classifier = SVC(kernel='linear', random_state=0)  \n",
        "classifier.fit(X_train, y_train)  "
      ],
      "metadata": {
        "colab": {
          "base_uri": "https://localhost:8080/"
        },
        "id": "H5I-iaVQ-mFN",
        "outputId": "be7b5624-58c0-4f36-cc81-e4037c65c4e7"
      },
      "execution_count": null,
      "outputs": [
        {
          "output_type": "execute_result",
          "data": {
            "text/plain": [
              "SVC(kernel='linear', random_state=0)"
            ]
          },
          "metadata": {},
          "execution_count": 21
        }
      ]
    },
    {
      "cell_type": "code",
      "source": [
        "y_pred = classifier.predict(X_test)"
      ],
      "metadata": {
        "id": "76L3xRsu-syM"
      },
      "execution_count": null,
      "outputs": []
    },
    {
      "cell_type": "code",
      "source": [
        "from sklearn.metrics import confusion_matrix,accuracy_score\n",
        "cm = confusion_matrix(y_test, y_pred)\n",
        "ac = accuracy_score(y_test,y_pred)"
      ],
      "metadata": {
        "id": "rcIanxqE-xt0"
      },
      "execution_count": null,
      "outputs": []
    },
    {
      "cell_type": "code",
      "source": [
        "ac\n",
        "\n",
        "# Source : https://www.javatpoint.com/machine-learning-support-vector-machine-algorithm"
      ],
      "metadata": {
        "colab": {
          "base_uri": "https://localhost:8080/"
        },
        "id": "wgUFBDbI-yrw",
        "outputId": "a4ac3259-b9dd-42eb-b355-830c42628a92"
      },
      "execution_count": null,
      "outputs": [
        {
          "output_type": "execute_result",
          "data": {
            "text/plain": [
              "0.8778729628081906"
            ]
          },
          "metadata": {},
          "execution_count": 24
        }
      ]
    },
    {
      "cell_type": "markdown",
      "source": [
        "## Decision Tree"
      ],
      "metadata": {
        "id": "Ax-X-RRk-mdv"
      }
    },
    {
      "cell_type": "markdown",
      "source": [
        "Akan dilakukan proses import library yang dibutuhkan. Kemudian, inisiasi DecisionTreeClassifier dengan parameter criterion='entropy', random_state=0, \n",
        "dimana criterion merupakan parameter yang digunakan untuk mengukur kualitas pemisahan.Teknik yang dipilih adalah entropy. Random_state = 0 dipilih agar saat mengenerate data, maka data akan dilakukan secara acak. Lakukan proses latih pada data train dan proses uji pada data test. "
      ],
      "metadata": {
        "id": "520h4XnNlu-g"
      }
    },
    {
      "cell_type": "markdown",
      "source": [
        "\n",
        "Kelebihan model Decision Tree:\n",
        "- Model Decision Tree memiliki automatic feature selection dimana metode decision tree sendiri memiliki tree-like model dalam menentukan keputusan dalam memberikan label berdasarkan pada pernyataan conditional. \n",
        "\n",
        "Kelemahan model Decision Tree:\n",
        "- Mode Decision Tree cukup lambat jika dijalankan pada big dataset serta cenderung untuk terjadi overfit"
      ],
      "metadata": {
        "id": "dMhL1Ns1luyv"
      }
    },
    {
      "cell_type": "code",
      "source": [
        "from sklearn.tree import DecisionTreeClassifier\n",
        "\n",
        "classifier_SVM= DecisionTreeClassifier(criterion='entropy', random_state=0)  \n",
        "classifier_SVM.fit(X_train, y_train)  "
      ],
      "metadata": {
        "colab": {
          "base_uri": "https://localhost:8080/"
        },
        "id": "gQclaHg52EXM",
        "outputId": "71e4f9fe-5cc3-4e7a-d695-1a4525f383f7"
      },
      "execution_count": null,
      "outputs": [
        {
          "output_type": "execute_result",
          "data": {
            "text/plain": [
              "DecisionTreeClassifier(criterion='entropy', random_state=0)"
            ]
          },
          "metadata": {},
          "execution_count": 25
        }
      ]
    },
    {
      "cell_type": "code",
      "source": [
        "y_pred = classifier_SVM.predict(X_test)"
      ],
      "metadata": {
        "id": "nSNOk62a2wXm"
      },
      "execution_count": null,
      "outputs": []
    },
    {
      "cell_type": "code",
      "source": [
        "from sklearn.metrics import confusion_matrix,accuracy_score\n",
        "cm = confusion_matrix(y_test, y_pred)\n",
        "ac = accuracy_score(y_test,y_pred)"
      ],
      "metadata": {
        "id": "CN5ZfaJL26fN"
      },
      "execution_count": null,
      "outputs": []
    },
    {
      "cell_type": "code",
      "source": [
        "ac\n",
        "\n",
        "# Source : https://www.javatpoint.com/machine-learning-decision-tree-classification-algorithm"
      ],
      "metadata": {
        "colab": {
          "base_uri": "https://localhost:8080/"
        },
        "id": "NuBT2LkZ2-OG",
        "outputId": "dc2f66d8-19bc-4230-8cb0-09c944171cde"
      },
      "execution_count": null,
      "outputs": [
        {
          "output_type": "execute_result",
          "data": {
            "text/plain": [
              "0.9382574174676138"
            ]
          },
          "metadata": {},
          "execution_count": 28
        }
      ]
    },
    {
      "cell_type": "markdown",
      "source": [
        "Metrik yang digunakan pada kasus ini adalah metrik Akurasi. Metrik akurasi memiliki rumus (TP + TN) / (TP + FP + TN + FP). Metrik akurasi dipilih karena akan dilakukan prediksi terhadap kelas dan kedua kelas (satisfied, neutra/not satisfied) merupakan hal yang penting untuk diperhatikan sehingga akan memperhitungkan setiap true positive dan true negative terhadap keseluruhan prediksi. \n",
        "\n",
        "Dalam membandingkan metrik akurasi tiap model, didapatkan bahwa model KNN memiliki akurasi sebesar 0.931, model SVM memilikiakurasi sebesar 0.878, dan model Decision tree memiliki akurasi sebesar 0.94. Jika dilihat, model KNN dan model decision tree memiliki tingkat akurasi yang hampir serupa. Namun, decision tree memiliki tingkat akurasi sedikit lebih baik dibandingkan model lainnya."
      ],
      "metadata": {
        "id": "ClLEFFkgl2M6"
      }
    }
  ]
}